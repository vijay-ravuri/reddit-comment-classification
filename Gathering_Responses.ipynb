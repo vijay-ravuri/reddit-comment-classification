{
 "cells": [
  {
   "cell_type": "code",
   "execution_count": 1,
   "metadata": {},
   "outputs": [],
   "source": [
    "import openai\n",
    "import os\n",
    "openai.organization = 'org-v2LFcd4G4l3FXNhFlFVapOrx'\n",
    "openai.api_key = os.getenv(\"OPENAI_API_KEY\")\n",
    "\n",
    "import time\n",
    "\n",
    "import pandas as pd\n",
    "import numpy as np"
   ]
  },
  {
   "cell_type": "code",
   "execution_count": 2,
   "metadata": {},
   "outputs": [],
   "source": [
    "df = pd.read_csv('cleaned_ask_reddit_science.csv')"
   ]
  },
  {
   "cell_type": "code",
   "execution_count": 3,
   "metadata": {},
   "outputs": [
    {
     "data": {
      "text/html": [
       "<div>\n",
       "<style scoped>\n",
       "    .dataframe tbody tr th:only-of-type {\n",
       "        vertical-align: middle;\n",
       "    }\n",
       "\n",
       "    .dataframe tbody tr th {\n",
       "        vertical-align: top;\n",
       "    }\n",
       "\n",
       "    .dataframe thead th {\n",
       "        text-align: right;\n",
       "    }\n",
       "</style>\n",
       "<table border=\"1\" class=\"dataframe\">\n",
       "  <thead>\n",
       "    <tr style=\"text-align: right;\">\n",
       "      <th></th>\n",
       "      <th>subreddit</th>\n",
       "      <th>title</th>\n",
       "      <th>comment</th>\n",
       "    </tr>\n",
       "  </thead>\n",
       "  <tbody>\n",
       "    <tr>\n",
       "      <th>0</th>\n",
       "      <td>AskReddit</td>\n",
       "      <td>Would you support a mandatory retirement age o...</td>\n",
       "      <td>70 and as for president no one can run over 65...</td>\n",
       "    </tr>\n",
       "    <tr>\n",
       "      <th>1</th>\n",
       "      <td>AskReddit</td>\n",
       "      <td>Now that Reddit are killing 3rd party apps on ...</td>\n",
       "      <td>Without this app, I will actually stop using R...</td>\n",
       "    </tr>\n",
       "    <tr>\n",
       "      <th>2</th>\n",
       "      <td>AskReddit</td>\n",
       "      <td>Bernie Sanders Says US Should Confiscate 100% ...</td>\n",
       "      <td>So maybe someone can try to explain this a bit...</td>\n",
       "    </tr>\n",
       "    <tr>\n",
       "      <th>3</th>\n",
       "      <td>AskReddit</td>\n",
       "      <td>Richard Feynman said, “Never confuse education...</td>\n",
       "      <td>My wife's stepfather was a chemist who current...</td>\n",
       "    </tr>\n",
       "    <tr>\n",
       "      <th>4</th>\n",
       "      <td>AskReddit</td>\n",
       "      <td>How much would you pay for a list of everyone ...</td>\n",
       "      <td>$20. Realistically it would be interesting, bu...</td>\n",
       "    </tr>\n",
       "  </tbody>\n",
       "</table>\n",
       "</div>"
      ],
      "text/plain": [
       "   subreddit                                              title  \\\n",
       "0  AskReddit  Would you support a mandatory retirement age o...   \n",
       "1  AskReddit  Now that Reddit are killing 3rd party apps on ...   \n",
       "2  AskReddit  Bernie Sanders Says US Should Confiscate 100% ...   \n",
       "3  AskReddit  Richard Feynman said, “Never confuse education...   \n",
       "4  AskReddit  How much would you pay for a list of everyone ...   \n",
       "\n",
       "                                             comment  \n",
       "0  70 and as for president no one can run over 65...  \n",
       "1  Without this app, I will actually stop using R...  \n",
       "2  So maybe someone can try to explain this a bit...  \n",
       "3  My wife's stepfather was a chemist who current...  \n",
       "4  $20. Realistically it would be interesting, bu...  "
      ]
     },
     "execution_count": 3,
     "metadata": {},
     "output_type": "execute_result"
    }
   ],
   "source": [
    "df.head()"
   ]
  },
  {
   "cell_type": "code",
   "execution_count": 4,
   "metadata": {},
   "outputs": [
    {
     "data": {
      "text/plain": [
       "1782"
      ]
     },
     "execution_count": 4,
     "metadata": {},
     "output_type": "execute_result"
    }
   ],
   "source": [
    "df.shape[0]"
   ]
  },
  {
   "cell_type": "code",
   "execution_count": 5,
   "metadata": {},
   "outputs": [],
   "source": [
    "# https://stackoverflow.com/a/49563326\n",
    "n = 10  #chunk row size\n",
    "list_df = [df[i:i+n] for i in range(0,df.shape[0],n)] "
   ]
  },
  {
   "cell_type": "code",
   "execution_count": 36,
   "metadata": {},
   "outputs": [],
   "source": [
    "# responses = []\n",
    "# for data in list_df:\n",
    "#     prompts = ['Respond to the following post as a user of {}: {}'.format(sub, title) for sub, title in zip(data['subreddit'], data['title'])]\n",
    "#     dv_responses = openai.Completion.create(\n",
    "#         model = 'text-davinci-003',\n",
    "#         prompt = prompts,\n",
    "#         max_tokens = 500,\n",
    "#         temperature = 0.6\n",
    "#     )\n",
    "#     responses.append(dv_responses)\n",
    "#     time.sleep(20)"
   ]
  },
  {
   "cell_type": "code",
   "execution_count": 25,
   "metadata": {},
   "outputs": [
    {
     "data": {
      "text/plain": [
       "0    AskReddit\n",
       "1    AskReddit\n",
       "2    AskReddit\n",
       "3    AskReddit\n",
       "4    AskReddit\n",
       "5    AskReddit\n",
       "6    AskReddit\n",
       "7    AskReddit\n",
       "8    AskReddit\n",
       "9    AskReddit\n",
       "Name: subreddit, dtype: object"
      ]
     },
     "execution_count": 25,
     "metadata": {},
     "output_type": "execute_result"
    }
   ],
   "source": [
    "list_df[0]['subreddit']"
   ]
  },
  {
   "cell_type": "code",
   "execution_count": 17,
   "metadata": {},
   "outputs": [
    {
     "name": "stdout",
     "output_type": "stream",
     "text": [
      "['AskReddit'\n",
      " 'Would you support a mandatory retirement age of 75 for US House, US Senate & US Supreme Court Justices and if not why?'\n",
      " '70 and as for president no one can run over 65 FFS get with the program folks just retire']\n",
      "['AskReddit'\n",
      " 'Now that Reddit are killing 3rd party apps on July 1st what are great alternatives to Reddit?'\n",
      " 'Without this app, I will actually stop using Reddit.']\n",
      "['AskReddit'\n",
      " \"Bernie Sanders Says US Should Confiscate 100% Of Any Money Americans Make Above $999M: 'They Can Survive Just Fine' - what do you think ?\"\n",
      " \"So maybe someone can try to explain this a bit, would this apply to the value of the company stock?  Because to my knowledge most of the people in this category don't actually take home 1 billion + in cash into their checking.\"]\n",
      "['AskReddit'\n",
      " 'Richard Feynman said, “Never confuse education with intelligence, you can have a PhD and still be an idiot.” What are some real life examples of this?'\n",
      " \"My wife's stepfather was a chemist who currently has diabetes. One night he went to the ER because his blood sugar was dangerously high. He claimed he was eating well (he normally doesnt) so there's no reason why his blood sugar was high.\\n\\nIn his car was a 2-liter bottle of ginger ale mixed in with grape juice. He said that the two canceled their sugars out and we didn't know what we were talking about because he was a chemist and he knows how to combine things.\"]\n",
      "['AskReddit'\n",
      " 'How much would you pay for a list of everyone who has ever sexually fantasized about or masturbated to you? Why?'\n",
      " \"$20. Realistically it would be interesting, but at the same time I'm concerned if there's something that I'd rather not see on that list.\"]\n",
      "['AskReddit' 'What villain was terrifying because they were right?'\n",
      " 'Ken from The Bee Movie. I too would go absolutely berserk if a talking bee stole my girlfriend and gaslit me into thinking I was crazy']\n",
      "['AskReddit'\n",
      " 'Redditors who have actually won a “lifetime” supply of something, what was the supply you won and how long did it actually last?'\n",
      " \"I won free full body massages for life, which basically just translates to 2 massages a week. It was really good. I got addicted. I knew everyone who worked there and I got to experiment with all of them to see which were the best. Ended up fluctuating between 3 different staff towards the end. They would even train new staff on me for free because I spent so much time over there. Those training massages never cost me anything either or counted towards my 2 free massage a week limit.\\n\\nWhen the place closed down I realized just how expensive massages were... I haven't had one in ages and I miss it so bad.\"]\n",
      "['AskReddit'\n",
      " \"Have you ever listened to a person talk for less than a minute and known you weren't going to get along with that person? What did they say?\"\n",
      " 'New guy at work, first coffee break he started complaining about his ex who had full custody of the kids for some unknowable reason and also how he’d like to slash her throat with a rusty knife. Nice to meet you too, don’t think I’ll be taking breaks with you.']\n",
      "['AskReddit'\n",
      " 'You’re given $1,000 cash every day but any time you need to poop, you have to use a public restroom; are you taking the $1k? Why or why not?'\n",
      " 'Yes, because my job is now shitting in public restrooms and I am incredibly well-paid so I am going to do it well.']\n",
      "['AskReddit'\n",
      " 'Whats a company secret you can share now that you dont work there?'\n",
      " 'I used to work for a company that rhymes with Muzzbeed and we used to have somebody post this question every few months for material for one of our clickbait articles.']\n"
     ]
    }
   ],
   "source": [
    "for thing in list_df[0].values:\n",
    "    print(thing)"
   ]
  },
  {
   "cell_type": "code",
   "execution_count": 38,
   "metadata": {},
   "outputs": [],
   "source": [
    "def cleaner(batch):\n",
    "    return [text['text'].strip() for text in batch.choices]"
   ]
  },
  {
   "cell_type": "code",
   "execution_count": 39,
   "metadata": {},
   "outputs": [],
   "source": [
    "cleaned_responses = [cleaner(batch) for batch in responses]"
   ]
  },
  {
   "cell_type": "code",
   "execution_count": 40,
   "metadata": {},
   "outputs": [
    {
     "data": {
      "text/plain": [
       "[\"No, I don't think a mandatory retirement age of 75 is a good idea. We should be looking to elect and appoint individuals based on their qualifications and experience, regardless of their age. Additionally, older individuals often bring a wealth of experience and perspective to the table that can be invaluable to the decision-making process. We should not be limiting their ability to serve simply because of their age.\",\n",
       " \"I'm not sure what the best alternatives to Reddit are, but I would suggest checking out some of the other popular social media sites like Twitter, Facebook, and Instagram. All of these sites have active communities that may be able to provide you with the same kind of content that Reddit does. Additionally, you may want to look into some of the more niche social media sites like Voat, 4chan, or Gab.\",\n",
       " \"I think Bernie Sanders' suggestion is extreme and unrealistic. It would be incredibly difficult to enforce and would likely create a lot of resentment among people who make more than $999 million. Additionally, it would be unfair to those who have worked hard and achieved success. Instead of confiscating wealth, it would be more beneficial to focus on creating better opportunities for everyone to succeed.\",\n",
       " \"I think a great example of this is people who have a lot of book smarts but no real-world experience. They may be able to quote scientific studies and spout facts they've read, but when it comes to actually applying that knowledge in the real world, they're completely lost.\",\n",
       " \"I wouldn't pay anything for a list like that. It would be a huge invasion of privacy, and I'm not sure I want to know who has been fantasizing about or masturbating to me. It would be too uncomfortable and embarrassing for me.\",\n",
       " 'I think the Joker from The Dark Knight is a great example of a villain who was terrifying because he was right. He was right in believing that society is inherently corrupt and that the only way to bring about real change is to create chaos. His methods may have been extreme, but his message was one that resonated with many people.',\n",
       " \"I haven't won a lifetime supply of anything, but I'm curious to hear about other people's experiences!\",\n",
       " \"Yes, I have. I remember this one person in particular who I spoke to for only a few minutes and I could tell right away that we weren't going to get along. They were so negative and bitter about everything. They were talking about how terrible their job was and how they were stuck in a rut and nothing was ever going to change. It was so depressing to listen to and I could feel my energy draining just listening to them.\",\n",
       " \"No, I'm not taking the $1k. Although having an extra $1k a day would be nice, I would find it too embarrassing to use a public restroom every time I need to poop. I value my privacy and comfort too much to make that trade-off.\",\n",
       " 'I used to work for a large retail chain and one of their secrets was that they would mark up merchandise in order to make it look like they were having sales. They would increase the price of an item before a sale and then lower it back to the original price after the sale was over. This way, customers thought they were getting a great deal when in reality they were just paying the original price.']"
      ]
     },
     "execution_count": 40,
     "metadata": {},
     "output_type": "execute_result"
    }
   ],
   "source": [
    "cleaned_responses[0]"
   ]
  },
  {
   "cell_type": "code",
   "execution_count": 41,
   "metadata": {},
   "outputs": [],
   "source": [
    "from itertools import chain\n",
    "# https://realpython.com/python-flatten-list/"
   ]
  },
  {
   "cell_type": "code",
   "execution_count": 44,
   "metadata": {},
   "outputs": [],
   "source": [
    "flattened_responses = list(chain.from_iterable(cleaned_responses))"
   ]
  },
  {
   "cell_type": "code",
   "execution_count": 45,
   "metadata": {},
   "outputs": [
    {
     "data": {
      "text/plain": [
       "\"I think a good example of this is the story of Gavrilo Princip, the Bosnian Serb who assassinated Archduke Franz Ferdinand of Austria-Hungary and his wife in 1914. While he was labeled a terrorist and was seen as the bad guy in the story, his assassination was actually a catalyst for the liberation of the oppressed people of the Austro-Hungarian empire, and he's now seen as a hero in the Balkans.\""
      ]
     },
     "execution_count": 45,
     "metadata": {},
     "output_type": "execute_result"
    }
   ],
   "source": [
    "cleaned_responses[1][3]"
   ]
  },
  {
   "cell_type": "code",
   "execution_count": 47,
   "metadata": {},
   "outputs": [
    {
     "data": {
      "text/plain": [
       "\"I think a good example of this is the story of Gavrilo Princip, the Bosnian Serb who assassinated Archduke Franz Ferdinand of Austria-Hungary and his wife in 1914. While he was labeled a terrorist and was seen as the bad guy in the story, his assassination was actually a catalyst for the liberation of the oppressed people of the Austro-Hungarian empire, and he's now seen as a hero in the Balkans.\""
      ]
     },
     "execution_count": 47,
     "metadata": {},
     "output_type": "execute_result"
    }
   ],
   "source": [
    "flattened_responses[13]"
   ]
  },
  {
   "cell_type": "code",
   "execution_count": 48,
   "metadata": {},
   "outputs": [],
   "source": [
    "df['ai_response'] = flattened_responses"
   ]
  },
  {
   "cell_type": "code",
   "execution_count": 49,
   "metadata": {},
   "outputs": [
    {
     "data": {
      "text/html": [
       "<div>\n",
       "<style scoped>\n",
       "    .dataframe tbody tr th:only-of-type {\n",
       "        vertical-align: middle;\n",
       "    }\n",
       "\n",
       "    .dataframe tbody tr th {\n",
       "        vertical-align: top;\n",
       "    }\n",
       "\n",
       "    .dataframe thead th {\n",
       "        text-align: right;\n",
       "    }\n",
       "</style>\n",
       "<table border=\"1\" class=\"dataframe\">\n",
       "  <thead>\n",
       "    <tr style=\"text-align: right;\">\n",
       "      <th></th>\n",
       "      <th>subreddit</th>\n",
       "      <th>title</th>\n",
       "      <th>comment</th>\n",
       "      <th>ai_response</th>\n",
       "    </tr>\n",
       "  </thead>\n",
       "  <tbody>\n",
       "    <tr>\n",
       "      <th>0</th>\n",
       "      <td>AskReddit</td>\n",
       "      <td>Would you support a mandatory retirement age o...</td>\n",
       "      <td>70 and as for president no one can run over 65...</td>\n",
       "      <td>No, I don't think a mandatory retirement age o...</td>\n",
       "    </tr>\n",
       "    <tr>\n",
       "      <th>1</th>\n",
       "      <td>AskReddit</td>\n",
       "      <td>Now that Reddit are killing 3rd party apps on ...</td>\n",
       "      <td>Without this app, I will actually stop using R...</td>\n",
       "      <td>I'm not sure what the best alternatives to Red...</td>\n",
       "    </tr>\n",
       "    <tr>\n",
       "      <th>2</th>\n",
       "      <td>AskReddit</td>\n",
       "      <td>Bernie Sanders Says US Should Confiscate 100% ...</td>\n",
       "      <td>So maybe someone can try to explain this a bit...</td>\n",
       "      <td>I think Bernie Sanders' suggestion is extreme ...</td>\n",
       "    </tr>\n",
       "    <tr>\n",
       "      <th>3</th>\n",
       "      <td>AskReddit</td>\n",
       "      <td>Richard Feynman said, “Never confuse education...</td>\n",
       "      <td>My wife's stepfather was a chemist who current...</td>\n",
       "      <td>I think a great example of this is people who ...</td>\n",
       "    </tr>\n",
       "    <tr>\n",
       "      <th>4</th>\n",
       "      <td>AskReddit</td>\n",
       "      <td>How much would you pay for a list of everyone ...</td>\n",
       "      <td>$20. Realistically it would be interesting, bu...</td>\n",
       "      <td>I wouldn't pay anything for a list like that. ...</td>\n",
       "    </tr>\n",
       "  </tbody>\n",
       "</table>\n",
       "</div>"
      ],
      "text/plain": [
       "   subreddit                                              title  \\\n",
       "0  AskReddit  Would you support a mandatory retirement age o...   \n",
       "1  AskReddit  Now that Reddit are killing 3rd party apps on ...   \n",
       "2  AskReddit  Bernie Sanders Says US Should Confiscate 100% ...   \n",
       "3  AskReddit  Richard Feynman said, “Never confuse education...   \n",
       "4  AskReddit  How much would you pay for a list of everyone ...   \n",
       "\n",
       "                                             comment  \\\n",
       "0  70 and as for president no one can run over 65...   \n",
       "1  Without this app, I will actually stop using R...   \n",
       "2  So maybe someone can try to explain this a bit...   \n",
       "3  My wife's stepfather was a chemist who current...   \n",
       "4  $20. Realistically it would be interesting, bu...   \n",
       "\n",
       "                                         ai_response  \n",
       "0  No, I don't think a mandatory retirement age o...  \n",
       "1  I'm not sure what the best alternatives to Red...  \n",
       "2  I think Bernie Sanders' suggestion is extreme ...  \n",
       "3  I think a great example of this is people who ...  \n",
       "4  I wouldn't pay anything for a list like that. ...  "
      ]
     },
     "execution_count": 49,
     "metadata": {},
     "output_type": "execute_result"
    }
   ],
   "source": [
    "df.head()"
   ]
  },
  {
   "cell_type": "code",
   "execution_count": 50,
   "metadata": {},
   "outputs": [
    {
     "name": "stdout",
     "output_type": "stream",
     "text": [
      "<class 'pandas.core.frame.DataFrame'>\n",
      "RangeIndex: 1782 entries, 0 to 1781\n",
      "Data columns (total 4 columns):\n",
      " #   Column       Non-Null Count  Dtype \n",
      "---  ------       --------------  ----- \n",
      " 0   subreddit    1782 non-null   object\n",
      " 1   title        1782 non-null   object\n",
      " 2   comment      1782 non-null   object\n",
      " 3   ai_response  1782 non-null   object\n",
      "dtypes: object(4)\n",
      "memory usage: 55.8+ KB\n"
     ]
    }
   ],
   "source": [
    "df.info()"
   ]
  },
  {
   "cell_type": "code",
   "execution_count": 51,
   "metadata": {},
   "outputs": [],
   "source": [
    "#df.to_csv('ask_reddit_science_final.csv', index = False)"
   ]
  },
  {
   "cell_type": "code",
   "execution_count": 52,
   "metadata": {},
   "outputs": [],
   "source": [
    "# gathering responses for remaining subreddits\n",
    "\n",
    "dat = pd.read_csv('cleaned_remaining_subs.csv')"
   ]
  },
  {
   "cell_type": "code",
   "execution_count": 53,
   "metadata": {},
   "outputs": [
    {
     "data": {
      "text/plain": [
       "(3631, 3)"
      ]
     },
     "execution_count": 53,
     "metadata": {},
     "output_type": "execute_result"
    }
   ],
   "source": [
    "dat.shape"
   ]
  },
  {
   "cell_type": "code",
   "execution_count": 55,
   "metadata": {},
   "outputs": [],
   "source": [
    "n = 20  # Doubling chunk size because the max prompts per call should be 20\n",
    "list_dat = [dat[i:i+n] for i in range(0,dat.shape[0],n)] "
   ]
  },
  {
   "cell_type": "code",
   "execution_count": 59,
   "metadata": {},
   "outputs": [
    {
     "data": {
      "text/plain": [
       "(11, 3)"
      ]
     },
     "execution_count": 59,
     "metadata": {},
     "output_type": "execute_result"
    }
   ],
   "source": [
    "list_dat[-1].shape"
   ]
  },
  {
   "cell_type": "code",
   "execution_count": 60,
   "metadata": {},
   "outputs": [],
   "source": [
    "responses = []\n",
    "for data in list_dat:\n",
    "    prompts = ['Respond to the following post as a user of {}: {}'.format(sub, title) for sub, title in zip(data['subreddit'], data['title'])]\n",
    "    dv_responses = openai.Completion.create(\n",
    "        model = 'text-davinci-003',\n",
    "        prompt = prompts,\n",
    "        max_tokens = 500,\n",
    "        temperature = 0.6\n",
    "    )\n",
    "    responses.append(dv_responses)\n",
    "    time.sleep(3) # I was low on credits so I had to upgrade and I think the current time limit is low enough sleep shouldn't be needed but just to play it safe I'll set 3 seconds"
   ]
  },
  {
   "cell_type": "code",
   "execution_count": 63,
   "metadata": {},
   "outputs": [
    {
     "data": {
      "text/plain": [
       "True"
      ]
     },
     "execution_count": 63,
     "metadata": {},
     "output_type": "execute_result"
    }
   ],
   "source": [
    "len(responses) == len(list_dat)"
   ]
  },
  {
   "cell_type": "code",
   "execution_count": 64,
   "metadata": {},
   "outputs": [],
   "source": [
    "cleaned_responses = [cleaner(batch) for batch in responses]"
   ]
  },
  {
   "cell_type": "code",
   "execution_count": 65,
   "metadata": {},
   "outputs": [],
   "source": [
    "flattened_responses = list(chain.from_iterable(cleaned_responses))"
   ]
  },
  {
   "cell_type": "code",
   "execution_count": 66,
   "metadata": {},
   "outputs": [
    {
     "data": {
      "text/plain": [
       "'No, the Supreme Court justices did not reach out to the founding fathers to help interpret their intent when writing the Constitution while deliberating cases. The founding fathers were not brought in to give expert testimony. However, Supreme Court justices did rely on the writings of the founding fathers, such as the Federalist Papers, to help them interpret the intent of the Constitution. In addition, the justices would also look to other sources, such as legal treatises, for guidance on Constitutional interpretation.'"
      ]
     },
     "execution_count": 66,
     "metadata": {},
     "output_type": "execute_result"
    }
   ],
   "source": [
    "cleaned_responses[1][3]"
   ]
  },
  {
   "cell_type": "code",
   "execution_count": 68,
   "metadata": {},
   "outputs": [
    {
     "data": {
      "text/plain": [
       "'No, the Supreme Court justices did not reach out to the founding fathers to help interpret their intent when writing the Constitution while deliberating cases. The founding fathers were not brought in to give expert testimony. However, Supreme Court justices did rely on the writings of the founding fathers, such as the Federalist Papers, to help them interpret the intent of the Constitution. In addition, the justices would also look to other sources, such as legal treatises, for guidance on Constitutional interpretation.'"
      ]
     },
     "execution_count": 68,
     "metadata": {},
     "output_type": "execute_result"
    }
   ],
   "source": [
    "flattened_responses[23]"
   ]
  },
  {
   "cell_type": "code",
   "execution_count": 69,
   "metadata": {},
   "outputs": [],
   "source": [
    "dat['ai_response'] = flattened_responses"
   ]
  },
  {
   "cell_type": "code",
   "execution_count": 70,
   "metadata": {},
   "outputs": [
    {
     "data": {
      "text/html": [
       "<div>\n",
       "<style scoped>\n",
       "    .dataframe tbody tr th:only-of-type {\n",
       "        vertical-align: middle;\n",
       "    }\n",
       "\n",
       "    .dataframe tbody tr th {\n",
       "        vertical-align: top;\n",
       "    }\n",
       "\n",
       "    .dataframe thead th {\n",
       "        text-align: right;\n",
       "    }\n",
       "</style>\n",
       "<table border=\"1\" class=\"dataframe\">\n",
       "  <thead>\n",
       "    <tr style=\"text-align: right;\">\n",
       "      <th></th>\n",
       "      <th>subreddit</th>\n",
       "      <th>title</th>\n",
       "      <th>comment</th>\n",
       "      <th>ai_response</th>\n",
       "    </tr>\n",
       "  </thead>\n",
       "  <tbody>\n",
       "    <tr>\n",
       "      <th>0</th>\n",
       "      <td>AskHistorians</td>\n",
       "      <td>Could people do backflips/front flips in ancie...</td>\n",
       "      <td>Some of the earliest images of people doing fl...</td>\n",
       "      <td>Yes, absolutely! In fact, ancient people did a...</td>\n",
       "    </tr>\n",
       "    <tr>\n",
       "      <th>1</th>\n",
       "      <td>AskHistorians</td>\n",
       "      <td>How did the USA go from robust trade unions, a...</td>\n",
       "      <td>Unfortunately on taxation rates, the presumpti...</td>\n",
       "      <td>This is a complex question that requires a len...</td>\n",
       "    </tr>\n",
       "    <tr>\n",
       "      <th>2</th>\n",
       "      <td>AskHistorians</td>\n",
       "      <td>What pop history book has done the most damage...</td>\n",
       "      <td>\"The Gangs of New York\" is a very entertaining...</td>\n",
       "      <td>That's a tough question! I'm not sure which bo...</td>\n",
       "    </tr>\n",
       "    <tr>\n",
       "      <th>3</th>\n",
       "      <td>AskHistorians</td>\n",
       "      <td>How would a professional historian look for th...</td>\n",
       "      <td># Gandalf’s Reference Desk Query\\n\\nA little r...</td>\n",
       "      <td>A professional historian would likely begin by...</td>\n",
       "    </tr>\n",
       "    <tr>\n",
       "      <th>4</th>\n",
       "      <td>AskHistorians</td>\n",
       "      <td>The aftermath of Kanye West’s antisemitic rhet...</td>\n",
       "      <td>Black Hebrew mythology originates from the sam...</td>\n",
       "      <td>This is an interesting question. It's hard to ...</td>\n",
       "    </tr>\n",
       "  </tbody>\n",
       "</table>\n",
       "</div>"
      ],
      "text/plain": [
       "       subreddit                                              title  \\\n",
       "0  AskHistorians  Could people do backflips/front flips in ancie...   \n",
       "1  AskHistorians  How did the USA go from robust trade unions, a...   \n",
       "2  AskHistorians  What pop history book has done the most damage...   \n",
       "3  AskHistorians  How would a professional historian look for th...   \n",
       "4  AskHistorians  The aftermath of Kanye West’s antisemitic rhet...   \n",
       "\n",
       "                                             comment  \\\n",
       "0  Some of the earliest images of people doing fl...   \n",
       "1  Unfortunately on taxation rates, the presumpti...   \n",
       "2  \"The Gangs of New York\" is a very entertaining...   \n",
       "3  # Gandalf’s Reference Desk Query\\n\\nA little r...   \n",
       "4  Black Hebrew mythology originates from the sam...   \n",
       "\n",
       "                                         ai_response  \n",
       "0  Yes, absolutely! In fact, ancient people did a...  \n",
       "1  This is a complex question that requires a len...  \n",
       "2  That's a tough question! I'm not sure which bo...  \n",
       "3  A professional historian would likely begin by...  \n",
       "4  This is an interesting question. It's hard to ...  "
      ]
     },
     "execution_count": 70,
     "metadata": {},
     "output_type": "execute_result"
    }
   ],
   "source": [
    "dat.head()"
   ]
  },
  {
   "cell_type": "code",
   "execution_count": 72,
   "metadata": {},
   "outputs": [
    {
     "data": {
      "text/plain": [
       "'Yes, absolutely! In fact, ancient people did a variety of flips and acrobatic stunts. There are several examples of this in ancient artwork, such as the Greek vase paintings depicting men doing backflips and the ancient Egyptian frescoes that show acrobats performing front flips. Additionally, there is evidence that acrobatic performances were a popular form of entertainment in ancient societies.'"
      ]
     },
     "execution_count": 72,
     "metadata": {},
     "output_type": "execute_result"
    }
   ],
   "source": [
    "dat['ai_response'][0]"
   ]
  },
  {
   "cell_type": "code",
   "execution_count": 73,
   "metadata": {},
   "outputs": [],
   "source": [
    "dat.to_csv('remaining_subs_final.csv', index = False)"
   ]
  },
  {
   "cell_type": "code",
   "execution_count": null,
   "metadata": {},
   "outputs": [],
   "source": []
  }
 ],
 "metadata": {
  "kernelspec": {
   "display_name": "base",
   "language": "python",
   "name": "python3"
  },
  "language_info": {
   "codemirror_mode": {
    "name": "ipython",
    "version": 3
   },
   "file_extension": ".py",
   "mimetype": "text/x-python",
   "name": "python",
   "nbconvert_exporter": "python",
   "pygments_lexer": "ipython3",
   "version": "3.11.3"
  },
  "orig_nbformat": 4
 },
 "nbformat": 4,
 "nbformat_minor": 2
}
