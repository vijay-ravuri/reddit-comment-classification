{
 "cells": [
  {
   "cell_type": "code",
   "execution_count": 1,
   "metadata": {},
   "outputs": [],
   "source": [
    "import requests\n",
    "import praw"
   ]
  },
  {
   "cell_type": "code",
   "execution_count": 12,
   "metadata": {},
   "outputs": [],
   "source": [
    "reddit = praw.Reddit(\n",
    "    client_id = 'F371gJQiT9dtGYcmMUIKuA',\n",
    "    client_secret = '3gn5Dn9QtUmWW5ee_TVmbXzlPo_wHg',\n",
    "    user_agent = 'DSI Project',\n",
    "    username = 'Ok_Conflict7553',\n",
    "    password = 'thisisalongpassword123'\n",
    ")"
   ]
  },
  {
   "cell_type": "code",
   "execution_count": 13,
   "metadata": {},
   "outputs": [
    {
     "name": "stdout",
     "output_type": "stream",
     "text": [
      "False\n"
     ]
    }
   ],
   "source": [
    "print(reddit.read_only)"
   ]
  },
  {
   "cell_type": "code",
   "execution_count": 52,
   "metadata": {},
   "outputs": [],
   "source": [
    "import pandas as pd\n",
    "import numpy as np\n",
    "from praw.models import MoreComments #https://praw.readthedocs.io/en/latest/tutorials/comments.html#extracting-comments-with-praw"
   ]
  },
  {
   "cell_type": "code",
   "execution_count": 182,
   "metadata": {},
   "outputs": [],
   "source": [
    "ask_reddit_dict = {}"
   ]
  },
  {
   "cell_type": "code",
   "execution_count": 183,
   "metadata": {},
   "outputs": [],
   "source": [
    "titles = []\n",
    "comments = []\n",
    "for submission in reddit.subreddit('AskReddit').hot(limit = 10):\n",
    "    submission.comment_sort = 'top'\n",
    "    #comments = submission.comments\n",
    "    i = 0\n",
    "    while submission.comments[i].stickied:\n",
    "        i += 1\n",
    "    #ask_reddit_dict[submission.title] = comments[i].body\n",
    "    titles.append(submission.title)\n",
    "    comments.append(submission.comments[i].body)\n",
    "\n",
    "ask_reddit_dict['title'] = titles\n",
    "ask_reddit_dict['comment'] = comments\n",
    "    "
   ]
  },
  {
   "cell_type": "code",
   "execution_count": 184,
   "metadata": {},
   "outputs": [
    {
     "data": {
      "text/plain": [
       "{'title': ['[Serious] What is the most wholesome behavior you find really attractive?',\n",
       "  'What’s the hottest thing a woman can do while kissing?',\n",
       "  'What is personal hell for you?',\n",
       "  'Who do you think gained the most from the war in Ukraine?',\n",
       "  \"What's your comfort YouTube channel?\",\n",
       "  'What historical fact does no one like to talk about?',\n",
       "  'What’s the scariest conspiracy theory you believe is 100% true?',\n",
       "  'What are some things that “regular people” will likely never get to experience?',\n",
       "  'What are some interesting things that our phones are capable of doing?',\n",
       "  \"How would you describe depression to someone who's never had it?\"],\n",
       " 'comment': ['When someone remembers a really random small detail I’ve only mentioned once',\n",
       "  'Kiss me back aggressively, enthusiastically. Don’t just allow me to kiss you.',\n",
       "  'Being somewhere for an extended period without a bathroom.',\n",
       "  \"NATO. It's been a fantastic logistics exercise with the side benefit of getting rid of old ammo and equipment. Oh, and they found out the Russian army can't fight for shit, apparently.\",\n",
       "  \"Tasting History with Max Miller. He does the research to pull an old recipe together and then recreates it. He'll even make the ingredients of ancient times and has started growing his own herbs that aren't US dominant. I find his dedication and success an enjoyable watch since I started watching him from the beginning for no reason.\",\n",
       "  \"Native American tribes like the Cherokee, Chickasaw, Choctaw, Creek, and Seminole Nations owned black slaves and were some of the last slave owners in North America. As they were sovereign nations, the emancipation proclamation didn't affect them, and new treaties needed to be made to stop the enslavement.\",\n",
       "  'A small one:\\n\\nSamsung announced that the Galaxy Watch 4 would include a non-invasive continuous glucose monitor, which would allow you to monitor your blood sugar at any time while you wear it, for as long as you own it. \\n\\nA months before the 4 was released, that feature quietly disappeared from all of the marketing, without explanation, and now, years later, is nowhere to be found. \\n\\nI believe Abbott Laboratories, makers of the FreeStyle Light glucometer and the FreeStyle Libre continuous glucose monitor systems, panicked, fearing that a non-expiring, non-invasive glucose monitor would be hugely popular among diabetics, and devastate their death-grip on the market, paid a huge bribe to Samsung to drop the whole thing.',\n",
       "  'Going to space',\n",
       "  'You can borrow ebooks with your existing library card. There’s an app called Libby, but there may be other ones too. Great for reading on a budget.',\n",
       "  'For me it was fatigue that was so intense I would avoid even going to the bathroom for as long as possible just to stay in bed.\\nThe second thing was this dark awareness that there isn’t really anything that I’m longing for that would make a difference. For example, when you have a flu or something and you lay in bed feeling like crap, you know that in a couple days you will feel better. When I was depressed, there was no relief to look forward to. No light at the end of the tunnel. I couldn’t think of a single thing that would make me happy.\\n\\nEdit:\\nI can’t believe how many people have responded to this and not because it isn’t a common issue. I’m shocked I have worded my answer in a manner that has resonated with so many and I hope you find your way to a better life just like I did. Those who have experienced the same despair are so eager to help that it is heartwarming to see all the effort and advice in the comments.']}"
      ]
     },
     "execution_count": 184,
     "metadata": {},
     "output_type": "execute_result"
    }
   ],
   "source": [
    "ask_reddit_dict"
   ]
  },
  {
   "cell_type": "code",
   "execution_count": 185,
   "metadata": {},
   "outputs": [
    {
     "data": {
      "text/html": [
       "<div>\n",
       "<style scoped>\n",
       "    .dataframe tbody tr th:only-of-type {\n",
       "        vertical-align: middle;\n",
       "    }\n",
       "\n",
       "    .dataframe tbody tr th {\n",
       "        vertical-align: top;\n",
       "    }\n",
       "\n",
       "    .dataframe thead th {\n",
       "        text-align: right;\n",
       "    }\n",
       "</style>\n",
       "<table border=\"1\" class=\"dataframe\">\n",
       "  <thead>\n",
       "    <tr style=\"text-align: right;\">\n",
       "      <th></th>\n",
       "      <th>title</th>\n",
       "      <th>comment</th>\n",
       "    </tr>\n",
       "  </thead>\n",
       "  <tbody>\n",
       "    <tr>\n",
       "      <th>0</th>\n",
       "      <td>[Serious] What is the most wholesome behavior ...</td>\n",
       "      <td>When someone remembers a really random small d...</td>\n",
       "    </tr>\n",
       "    <tr>\n",
       "      <th>1</th>\n",
       "      <td>What’s the hottest thing a woman can do while ...</td>\n",
       "      <td>Kiss me back aggressively, enthusiastically. D...</td>\n",
       "    </tr>\n",
       "    <tr>\n",
       "      <th>2</th>\n",
       "      <td>What is personal hell for you?</td>\n",
       "      <td>Being somewhere for an extended period without...</td>\n",
       "    </tr>\n",
       "    <tr>\n",
       "      <th>3</th>\n",
       "      <td>Who do you think gained the most from the war ...</td>\n",
       "      <td>NATO. It's been a fantastic logistics exercise...</td>\n",
       "    </tr>\n",
       "    <tr>\n",
       "      <th>4</th>\n",
       "      <td>What's your comfort YouTube channel?</td>\n",
       "      <td>Tasting History with Max Miller. He does the r...</td>\n",
       "    </tr>\n",
       "    <tr>\n",
       "      <th>5</th>\n",
       "      <td>What historical fact does no one like to talk ...</td>\n",
       "      <td>Native American tribes like the Cherokee, Chic...</td>\n",
       "    </tr>\n",
       "    <tr>\n",
       "      <th>6</th>\n",
       "      <td>What’s the scariest conspiracy theory you beli...</td>\n",
       "      <td>A small one:\\n\\nSamsung announced that the Gal...</td>\n",
       "    </tr>\n",
       "    <tr>\n",
       "      <th>7</th>\n",
       "      <td>What are some things that “regular people” wil...</td>\n",
       "      <td>Going to space</td>\n",
       "    </tr>\n",
       "    <tr>\n",
       "      <th>8</th>\n",
       "      <td>What are some interesting things that our phon...</td>\n",
       "      <td>You can borrow ebooks with your existing libra...</td>\n",
       "    </tr>\n",
       "    <tr>\n",
       "      <th>9</th>\n",
       "      <td>How would you describe depression to someone w...</td>\n",
       "      <td>For me it was fatigue that was so intense I wo...</td>\n",
       "    </tr>\n",
       "  </tbody>\n",
       "</table>\n",
       "</div>"
      ],
      "text/plain": [
       "                                               title  \\\n",
       "0  [Serious] What is the most wholesome behavior ...   \n",
       "1  What’s the hottest thing a woman can do while ...   \n",
       "2                     What is personal hell for you?   \n",
       "3  Who do you think gained the most from the war ...   \n",
       "4               What's your comfort YouTube channel?   \n",
       "5  What historical fact does no one like to talk ...   \n",
       "6  What’s the scariest conspiracy theory you beli...   \n",
       "7  What are some things that “regular people” wil...   \n",
       "8  What are some interesting things that our phon...   \n",
       "9  How would you describe depression to someone w...   \n",
       "\n",
       "                                             comment  \n",
       "0  When someone remembers a really random small d...  \n",
       "1  Kiss me back aggressively, enthusiastically. D...  \n",
       "2  Being somewhere for an extended period without...  \n",
       "3  NATO. It's been a fantastic logistics exercise...  \n",
       "4  Tasting History with Max Miller. He does the r...  \n",
       "5  Native American tribes like the Cherokee, Chic...  \n",
       "6  A small one:\\n\\nSamsung announced that the Gal...  \n",
       "7                                     Going to space  \n",
       "8  You can borrow ebooks with your existing libra...  \n",
       "9  For me it was fatigue that was so intense I wo...  "
      ]
     },
     "execution_count": 185,
     "metadata": {},
     "output_type": "execute_result"
    }
   ],
   "source": [
    "pd.DataFrame(ask_reddit_dict)"
   ]
  },
  {
   "cell_type": "code",
   "execution_count": null,
   "metadata": {},
   "outputs": [],
   "source": []
  }
 ],
 "metadata": {
  "kernelspec": {
   "display_name": "base",
   "language": "python",
   "name": "python3"
  },
  "language_info": {
   "codemirror_mode": {
    "name": "ipython",
    "version": 3
   },
   "file_extension": ".py",
   "mimetype": "text/x-python",
   "name": "python",
   "nbconvert_exporter": "python",
   "pygments_lexer": "ipython3",
   "version": "3.11.3"
  },
  "orig_nbformat": 4
 },
 "nbformat": 4,
 "nbformat_minor": 2
}
