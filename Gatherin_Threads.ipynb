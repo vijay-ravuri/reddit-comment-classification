{
 "cells": [
  {
   "cell_type": "code",
   "execution_count": 1,
   "metadata": {},
   "outputs": [],
   "source": [
    "import pandas as pd\n",
    "\n",
    "import praw"
   ]
  },
  {
   "cell_type": "code",
   "execution_count": 2,
   "metadata": {},
   "outputs": [],
   "source": [
    "reddit = praw.Reddit(ratelimit_seconds = 600)"
   ]
  },
  {
   "cell_type": "code",
   "execution_count": 3,
   "metadata": {},
   "outputs": [
    {
     "data": {
      "text/plain": [
       "Redditor(name='MoneyKaleidoscope491')"
      ]
     },
     "execution_count": 3,
     "metadata": {},
     "output_type": "execute_result"
    }
   ],
   "source": [
    "reddit.user.me()"
   ]
  },
  {
   "cell_type": "code",
   "execution_count": 4,
   "metadata": {},
   "outputs": [],
   "source": [
    "subreddit_list = [\n",
    "    #'AskReddit',\n",
    "    #'askscience',\n",
    "    #'AskHistorians',\n",
    "    #'explainlikeimfive',\n",
    "    #'NoStupidQuestions',\n",
    "    #'DoesAnybodyElse'\n",
    "]"
   ]
  },
  {
   "cell_type": "code",
   "execution_count": 7,
   "metadata": {},
   "outputs": [],
   "source": [
    "titles = []\n",
    "comments = []\n",
    "subreddits = []"
   ]
  },
  {
   "cell_type": "code",
   "execution_count": 8,
   "metadata": {},
   "outputs": [
    {
     "name": "stdout",
     "output_type": "stream",
     "text": [
      "[META] Tomorrow AskHistorians will go private\n",
      "AskHistorians and uncertainty surrounding the future of API access\n",
      "AskHistorians has hit 1.5 million subscribers! To celebrate, we’re giving away 1.5 million historical facts. Join us HERE to claim your free fact!\n",
      "A shout out & thank you to some of the most vital members of the AskHistorians community: The Readers.\n",
      "AskHistorians is back up.... but currently 'Restricted'. What this means and why.\n",
      "Our 20 Year Rule: You can now ask questions about 2003!\n",
      "AskHistorians will remain in limited operation until further notice\n",
      "It is the TWELFTH BIRTHDAY of AskHistorians! As is tradition, you may be comedic, witty, or otherwise silly in this thread!\n",
      "Taking AskHistorians Community Input on Next Steps\n",
      "[META] Can we get two new regulations regarding bad answers in this sub?\n",
      "This is one of my favorite pages on Reddit. But I’ve always been curious - What is the history / origins of r/AskHistorians? How did such a specialized sub get established and maintained? Who are some of the early or influential people who made it what it is today?\n",
      "In a week, AskHistorians will return to normal operation until further notice\n",
      "[meta] How would you feel if Wikipedia cited your answer from this sub?\n",
      "[Meta] Is it just me, or does this sub lack Indian historians (as in historians who specialize in Indian history)?\n",
      "[META] The rules and moderation practices of AskHistorians have changed over the past decade. How does the moderation team handle the difference in rules over time when a questioner is linked to an old, archived thread for an answer?\n",
      "We're Back! ...for now.\n",
      "[META] Are there any contingency plans for this subreddit if Reddit as a website ceased to exist ?\n",
      "A Brief and Unimportant Note from the Mod Team About Some Minor Bot Testing Over the Next 24 to 36 hours.\n",
      "[META] Can we get a Tag for answered questions?\n",
      "How do you all know these answers?\n"
     ]
    }
   ],
   "source": [
    "#for sub in subreddit_list:\n",
    "for submission in reddit.subreddit('AskHistorians').top(limit = 1000, time_filter = 'year'):  # pull top 1000 posts in the last year then go into each post\n",
    "    commentss = submission.comments # grab comments from thread\n",
    "    try:\n",
    "        if submission.link_flair_text.lower() == 'meta': # some subreddits have meta posts that need to be skipped\n",
    "            print(submission.title)\n",
    "            continue\n",
    "    except AttributeError: # Handles posts with no flairs\n",
    "        pass\n",
    "    # try: # Check if the post is from a moderator to avoid automod, AttributeError comes up if the post is by a deleted account\n",
    "    #     if 'AskHistorians' in submission.author.moderated():\n",
    "    #         continue\n",
    "    # except AttributeError:\n",
    "    #     pass\n",
    "    commentss.comment_sort = 'top' # Sort comments by top\n",
    "\n",
    "    i = 0\n",
    "    try: # \n",
    "        while commentss[i].stickied:\n",
    "            i += 1\n",
    "    except IndexError:\n",
    "        continue\n",
    "    subreddits.append('AskHistorians')\n",
    "    titles.append(submission.title)\n",
    "    comments.append(commentss[i].body)"
   ]
  },
  {
   "cell_type": "code",
   "execution_count": 9,
   "metadata": {},
   "outputs": [],
   "source": [
    "df = pd.DataFrame(list(zip(subreddits, titles, comments)), columns = ['subreddit', 'title', 'comment'])"
   ]
  },
  {
   "cell_type": "code",
   "execution_count": 10,
   "metadata": {},
   "outputs": [
    {
     "data": {
      "text/plain": [
       "AskHistorians    938\n",
       "Name: subreddit, dtype: int64"
      ]
     },
     "execution_count": 10,
     "metadata": {},
     "output_type": "execute_result"
    }
   ],
   "source": [
    "df['subreddit'].value_counts()"
   ]
  },
  {
   "cell_type": "code",
   "execution_count": 11,
   "metadata": {},
   "outputs": [
    {
     "data": {
      "text/plain": [
       "True"
      ]
     },
     "execution_count": 11,
     "metadata": {},
     "output_type": "execute_result"
    }
   ],
   "source": [
    "df[(df['comment'] != '[removed]') & (df['comment'] != '[deleted]')]['comment'].is_unique"
   ]
  },
  {
   "cell_type": "code",
   "execution_count": 12,
   "metadata": {},
   "outputs": [
    {
     "data": {
      "text/plain": [
       "False"
      ]
     },
     "execution_count": 12,
     "metadata": {},
     "output_type": "execute_result"
    }
   ],
   "source": [
    "df['comment'].is_unique"
   ]
  },
  {
   "cell_type": "code",
   "execution_count": 13,
   "metadata": {},
   "outputs": [],
   "source": [
    "#df.to_csv('data_2.csv', index = False)"
   ]
  }
 ],
 "metadata": {
  "kernelspec": {
   "display_name": "base",
   "language": "python",
   "name": "python3"
  },
  "language_info": {
   "codemirror_mode": {
    "name": "ipython",
    "version": 3
   },
   "file_extension": ".py",
   "mimetype": "text/x-python",
   "name": "python",
   "nbconvert_exporter": "python",
   "pygments_lexer": "ipython3",
   "version": "3.11.3"
  },
  "orig_nbformat": 4
 },
 "nbformat": 4,
 "nbformat_minor": 2
}
