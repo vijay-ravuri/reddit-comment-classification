{
 "cells": [
  {
   "cell_type": "code",
   "execution_count": 1,
   "metadata": {},
   "outputs": [],
   "source": [
    "import pandas as pd\n",
    "import numpy as np\n",
    "import re"
   ]
  },
  {
   "cell_type": "code",
   "execution_count": 2,
   "metadata": {},
   "outputs": [],
   "source": [
    "reddit = pd.read_csv('../../data/reddit_data/AskReddit_AskScience.csv')"
   ]
  },
  {
   "cell_type": "code",
   "execution_count": 4,
   "metadata": {},
   "outputs": [
    {
     "data": {
      "text/plain": [
       "(1916, 3)"
      ]
     },
     "execution_count": 4,
     "metadata": {},
     "output_type": "execute_result"
    }
   ],
   "source": [
    "reddit.shape"
   ]
  },
  {
   "cell_type": "code",
   "execution_count": 5,
   "metadata": {},
   "outputs": [
    {
     "data": {
      "text/plain": [
       "(1805, 3)"
      ]
     },
     "execution_count": 5,
     "metadata": {},
     "output_type": "execute_result"
    }
   ],
   "source": [
    "reddit[(reddit['comment'] != '[removed]') & (reddit['comment'] != '[deleted]')].shape # 111 removed or deleted comments"
   ]
  },
  {
   "cell_type": "code",
   "execution_count": 7,
   "metadata": {},
   "outputs": [
    {
     "data": {
      "text/plain": [
       "False"
      ]
     },
     "execution_count": 7,
     "metadata": {},
     "output_type": "execute_result"
    }
   ],
   "source": [
    "reddit[(reddit['comment'] != '[removed]') & (reddit['comment'] != '[deleted]')]['title'].is_unique # at least one duped title in remaining threads"
   ]
  },
  {
   "cell_type": "code",
   "execution_count": 8,
   "metadata": {},
   "outputs": [
    {
     "data": {
      "text/plain": [
       "False"
      ]
     },
     "execution_count": 8,
     "metadata": {},
     "output_type": "execute_result"
    }
   ],
   "source": [
    "reddit[(reddit['comment'] != '[removed]') & (reddit['comment'] != '[deleted]')]['comment'].is_unique # at least one duped comment as well"
   ]
  },
  {
   "cell_type": "code",
   "execution_count": 9,
   "metadata": {},
   "outputs": [
    {
     "data": {
      "text/plain": [
       "23"
      ]
     },
     "execution_count": 9,
     "metadata": {},
     "output_type": "execute_result"
    }
   ],
   "source": [
    "reddit[(reddit['comment'] != '[removed]') & (reddit['comment'] != '[deleted]')]['title'].duplicated().sum() # 23 duplicated thread titles? That's too many for just reposting"
   ]
  },
  {
   "cell_type": "code",
   "execution_count": 10,
   "metadata": {},
   "outputs": [
    {
     "data": {
      "text/plain": [
       "1"
      ]
     },
     "execution_count": 10,
     "metadata": {},
     "output_type": "execute_result"
    }
   ],
   "source": [
    "reddit[(reddit['comment'] != '[removed]') & (reddit['comment'] != '[deleted]')]['comment'].duplicated().sum() # but only one duplicated comment"
   ]
  },
  {
   "cell_type": "code",
   "execution_count": 11,
   "metadata": {},
   "outputs": [],
   "source": [
    "reddit_remaining = reddit[(reddit['comment'] != '[removed]') & (reddit['comment'] != '[deleted]')]"
   ]
  },
  {
   "cell_type": "code",
   "execution_count": 12,
   "metadata": {},
   "outputs": [
    {
     "data": {
      "text/html": [
       "<div>\n",
       "<style scoped>\n",
       "    .dataframe tbody tr th:only-of-type {\n",
       "        vertical-align: middle;\n",
       "    }\n",
       "\n",
       "    .dataframe tbody tr th {\n",
       "        vertical-align: top;\n",
       "    }\n",
       "\n",
       "    .dataframe thead th {\n",
       "        text-align: right;\n",
       "    }\n",
       "</style>\n",
       "<table border=\"1\" class=\"dataframe\">\n",
       "  <thead>\n",
       "    <tr style=\"text-align: right;\">\n",
       "      <th></th>\n",
       "      <th>subreddit</th>\n",
       "      <th>title</th>\n",
       "      <th>comment</th>\n",
       "    </tr>\n",
       "  </thead>\n",
       "  <tbody>\n",
       "    <tr>\n",
       "      <th>705</th>\n",
       "      <td>AskReddit</td>\n",
       "      <td>What Company would you Like to Go Bankrupt?</td>\n",
       "      <td>Ticketmaster</td>\n",
       "    </tr>\n",
       "  </tbody>\n",
       "</table>\n",
       "</div>"
      ],
      "text/plain": [
       "     subreddit                                        title       comment\n",
       "705  AskReddit  What Company would you Like to Go Bankrupt?  Ticketmaster"
      ]
     },
     "execution_count": 12,
     "metadata": {},
     "output_type": "execute_result"
    }
   ],
   "source": [
    "reddit_remaining.loc[reddit_remaining['comment'].duplicated()]"
   ]
  },
  {
   "cell_type": "code",
   "execution_count": 13,
   "metadata": {},
   "outputs": [
    {
     "data": {
      "text/html": [
       "<div>\n",
       "<style scoped>\n",
       "    .dataframe tbody tr th:only-of-type {\n",
       "        vertical-align: middle;\n",
       "    }\n",
       "\n",
       "    .dataframe tbody tr th {\n",
       "        vertical-align: top;\n",
       "    }\n",
       "\n",
       "    .dataframe thead th {\n",
       "        text-align: right;\n",
       "    }\n",
       "</style>\n",
       "<table border=\"1\" class=\"dataframe\">\n",
       "  <thead>\n",
       "    <tr style=\"text-align: right;\">\n",
       "      <th></th>\n",
       "      <th>subreddit</th>\n",
       "      <th>title</th>\n",
       "      <th>comment</th>\n",
       "    </tr>\n",
       "  </thead>\n",
       "  <tbody>\n",
       "    <tr>\n",
       "      <th>506</th>\n",
       "      <td>AskReddit</td>\n",
       "      <td>If you could bankrupt one company which one wo...</td>\n",
       "      <td>Ticketmaster</td>\n",
       "    </tr>\n",
       "    <tr>\n",
       "      <th>705</th>\n",
       "      <td>AskReddit</td>\n",
       "      <td>What Company would you Like to Go Bankrupt?</td>\n",
       "      <td>Ticketmaster</td>\n",
       "    </tr>\n",
       "  </tbody>\n",
       "</table>\n",
       "</div>"
      ],
      "text/plain": [
       "     subreddit                                              title  \\\n",
       "506  AskReddit  If you could bankrupt one company which one wo...   \n",
       "705  AskReddit        What Company would you Like to Go Bankrupt?   \n",
       "\n",
       "          comment  \n",
       "506  Ticketmaster  \n",
       "705  Ticketmaster  "
      ]
     },
     "execution_count": 13,
     "metadata": {},
     "output_type": "execute_result"
    }
   ],
   "source": [
    "reddit_remaining.loc[reddit_remaining['comment'] == 'Ticketmaster', :] # The thread's are similarly worded but the duplicated response isn't invalid. Reddit comments are repetitive so this is par for the course"
   ]
  },
  {
   "cell_type": "code",
   "execution_count": 14,
   "metadata": {},
   "outputs": [
    {
     "data": {
      "text/html": [
       "<div>\n",
       "<style scoped>\n",
       "    .dataframe tbody tr th:only-of-type {\n",
       "        vertical-align: middle;\n",
       "    }\n",
       "\n",
       "    .dataframe tbody tr th {\n",
       "        vertical-align: top;\n",
       "    }\n",
       "\n",
       "    .dataframe thead th {\n",
       "        text-align: right;\n",
       "    }\n",
       "</style>\n",
       "<table border=\"1\" class=\"dataframe\">\n",
       "  <thead>\n",
       "    <tr style=\"text-align: right;\">\n",
       "      <th></th>\n",
       "      <th>subreddit</th>\n",
       "      <th>title</th>\n",
       "      <th>comment</th>\n",
       "    </tr>\n",
       "  </thead>\n",
       "  <tbody>\n",
       "    <tr>\n",
       "      <th>397</th>\n",
       "      <td>AskReddit</td>\n",
       "      <td>What did you not know about sex until you lost...</td>\n",
       "      <td>your family can hear you.</td>\n",
       "    </tr>\n",
       "    <tr>\n",
       "      <th>975</th>\n",
       "      <td>AskReddit</td>\n",
       "      <td>What are you convinced people are pretending t...</td>\n",
       "      <td>Posting on LinkedIn</td>\n",
       "    </tr>\n",
       "    <tr>\n",
       "      <th>995</th>\n",
       "      <td>AskReddit</td>\n",
       "      <td>What's the worst sex you've ever had?</td>\n",
       "      <td>Got puked on while she was on top straight up ...</td>\n",
       "    </tr>\n",
       "    <tr>\n",
       "      <th>1337</th>\n",
       "      <td>AskScience</td>\n",
       "      <td>Ask Anything Wednesday - Engineering, Mathemat...</td>\n",
       "      <td>What is the estimated mass of all animal life ...</td>\n",
       "    </tr>\n",
       "    <tr>\n",
       "      <th>1379</th>\n",
       "      <td>AskScience</td>\n",
       "      <td>Ask Anything Wednesday - Engineering, Mathemat...</td>\n",
       "      <td>How far away are we from reaching the limit CP...</td>\n",
       "    </tr>\n",
       "    <tr>\n",
       "      <th>1420</th>\n",
       "      <td>AskScience</td>\n",
       "      <td>Ask Anything Wednesday - Economics, Political ...</td>\n",
       "      <td>In the Sherlock Holmes books numbers are often...</td>\n",
       "    </tr>\n",
       "    <tr>\n",
       "      <th>1440</th>\n",
       "      <td>AskScience</td>\n",
       "      <td>Ask Anything Wednesday - Engineering, Mathemat...</td>\n",
       "      <td>Biology: we can live for weeks without eating,...</td>\n",
       "    </tr>\n",
       "    <tr>\n",
       "      <th>1541</th>\n",
       "      <td>AskScience</td>\n",
       "      <td>Ask Anything Wednesday - Engineering, Mathemat...</td>\n",
       "      <td>How are questions structured in a quantum comp...</td>\n",
       "    </tr>\n",
       "    <tr>\n",
       "      <th>1555</th>\n",
       "      <td>AskScience</td>\n",
       "      <td>Ask Anything Wednesday - Physics, Astronomy, E...</td>\n",
       "      <td>Why is there such an obsession with colonizing...</td>\n",
       "    </tr>\n",
       "    <tr>\n",
       "      <th>1586</th>\n",
       "      <td>AskScience</td>\n",
       "      <td>Ask Anything Wednesday - Engineering, Mathemat...</td>\n",
       "      <td>I'm self taught in some very basic computer pr...</td>\n",
       "    </tr>\n",
       "    <tr>\n",
       "      <th>1633</th>\n",
       "      <td>AskScience</td>\n",
       "      <td>Ask Anything Wednesday - Engineering, Mathemat...</td>\n",
       "      <td>How exactly do the detectors in the LHC at CER...</td>\n",
       "    </tr>\n",
       "    <tr>\n",
       "      <th>1635</th>\n",
       "      <td>AskScience</td>\n",
       "      <td>Ask Anything Wednesday - Physics, Astronomy, E...</td>\n",
       "      <td>Why can we identify cosmic molecules of carbon...</td>\n",
       "    </tr>\n",
       "    <tr>\n",
       "      <th>1650</th>\n",
       "      <td>AskScience</td>\n",
       "      <td>Ask Anything Wednesday - Physics, Astronomy, E...</td>\n",
       "      <td>Earth science: What happens when a divergent p...</td>\n",
       "    </tr>\n",
       "    <tr>\n",
       "      <th>1673</th>\n",
       "      <td>AskScience</td>\n",
       "      <td>Ask Anything Wednesday - Physics, Astronomy, E...</td>\n",
       "      <td>Is there a reason or theory as to why Earth, M...</td>\n",
       "    </tr>\n",
       "    <tr>\n",
       "      <th>1683</th>\n",
       "      <td>AskScience</td>\n",
       "      <td>What is the smallest possible black hole?</td>\n",
       "      <td>Elementary particles don't have a size in the ...</td>\n",
       "    </tr>\n",
       "    <tr>\n",
       "      <th>1689</th>\n",
       "      <td>AskScience</td>\n",
       "      <td>Ask Anything Wednesday - Biology, Chemistry, N...</td>\n",
       "      <td>What is \"instinct\" Like how do animals just \"k...</td>\n",
       "    </tr>\n",
       "    <tr>\n",
       "      <th>1738</th>\n",
       "      <td>AskScience</td>\n",
       "      <td>Ask Anything Wednesday - Physics, Astronomy, E...</td>\n",
       "      <td>What are the most promising hypotheses for why...</td>\n",
       "    </tr>\n",
       "    <tr>\n",
       "      <th>1756</th>\n",
       "      <td>AskScience</td>\n",
       "      <td>Ask Anything Wednesday - Biology, Chemistry, N...</td>\n",
       "      <td>With rising sea levels and lack of desalinated...</td>\n",
       "    </tr>\n",
       "    <tr>\n",
       "      <th>1776</th>\n",
       "      <td>AskScience</td>\n",
       "      <td>Ask Anything Wednesday - Biology, Chemistry, N...</td>\n",
       "      <td>So our bodies have billions of microorganisms ...</td>\n",
       "    </tr>\n",
       "    <tr>\n",
       "      <th>1793</th>\n",
       "      <td>AskScience</td>\n",
       "      <td>Ask Anything Wednesday - Engineering, Mathemat...</td>\n",
       "      <td>Math question, sorry if this sounds dumb: How ...</td>\n",
       "    </tr>\n",
       "    <tr>\n",
       "      <th>1885</th>\n",
       "      <td>AskScience</td>\n",
       "      <td>Ask Anything Wednesday - Physics, Astronomy, E...</td>\n",
       "      <td>I understand that if I get in a ship and trave...</td>\n",
       "    </tr>\n",
       "    <tr>\n",
       "      <th>1888</th>\n",
       "      <td>AskScience</td>\n",
       "      <td>Ask Anything Wednesday - Physics, Astronomy, E...</td>\n",
       "      <td>Has your scientific perspective given you any ...</td>\n",
       "    </tr>\n",
       "    <tr>\n",
       "      <th>1898</th>\n",
       "      <td>AskScience</td>\n",
       "      <td>Ask Anything Wednesday - Biology, Chemistry, N...</td>\n",
       "      <td>Can you explain the science (neuro, psych, bio...</td>\n",
       "    </tr>\n",
       "  </tbody>\n",
       "</table>\n",
       "</div>"
      ],
      "text/plain": [
       "       subreddit                                              title  \\\n",
       "397    AskReddit  What did you not know about sex until you lost...   \n",
       "975    AskReddit  What are you convinced people are pretending t...   \n",
       "995    AskReddit              What's the worst sex you've ever had?   \n",
       "1337  AskScience  Ask Anything Wednesday - Engineering, Mathemat...   \n",
       "1379  AskScience  Ask Anything Wednesday - Engineering, Mathemat...   \n",
       "1420  AskScience  Ask Anything Wednesday - Economics, Political ...   \n",
       "1440  AskScience  Ask Anything Wednesday - Engineering, Mathemat...   \n",
       "1541  AskScience  Ask Anything Wednesday - Engineering, Mathemat...   \n",
       "1555  AskScience  Ask Anything Wednesday - Physics, Astronomy, E...   \n",
       "1586  AskScience  Ask Anything Wednesday - Engineering, Mathemat...   \n",
       "1633  AskScience  Ask Anything Wednesday - Engineering, Mathemat...   \n",
       "1635  AskScience  Ask Anything Wednesday - Physics, Astronomy, E...   \n",
       "1650  AskScience  Ask Anything Wednesday - Physics, Astronomy, E...   \n",
       "1673  AskScience  Ask Anything Wednesday - Physics, Astronomy, E...   \n",
       "1683  AskScience          What is the smallest possible black hole?   \n",
       "1689  AskScience  Ask Anything Wednesday - Biology, Chemistry, N...   \n",
       "1738  AskScience  Ask Anything Wednesday - Physics, Astronomy, E...   \n",
       "1756  AskScience  Ask Anything Wednesday - Biology, Chemistry, N...   \n",
       "1776  AskScience  Ask Anything Wednesday - Biology, Chemistry, N...   \n",
       "1793  AskScience  Ask Anything Wednesday - Engineering, Mathemat...   \n",
       "1885  AskScience  Ask Anything Wednesday - Physics, Astronomy, E...   \n",
       "1888  AskScience  Ask Anything Wednesday - Physics, Astronomy, E...   \n",
       "1898  AskScience  Ask Anything Wednesday - Biology, Chemistry, N...   \n",
       "\n",
       "                                                comment  \n",
       "397                           your family can hear you.  \n",
       "975                                 Posting on LinkedIn  \n",
       "995   Got puked on while she was on top straight up ...  \n",
       "1337  What is the estimated mass of all animal life ...  \n",
       "1379  How far away are we from reaching the limit CP...  \n",
       "1420  In the Sherlock Holmes books numbers are often...  \n",
       "1440  Biology: we can live for weeks without eating,...  \n",
       "1541  How are questions structured in a quantum comp...  \n",
       "1555  Why is there such an obsession with colonizing...  \n",
       "1586  I'm self taught in some very basic computer pr...  \n",
       "1633  How exactly do the detectors in the LHC at CER...  \n",
       "1635  Why can we identify cosmic molecules of carbon...  \n",
       "1650  Earth science: What happens when a divergent p...  \n",
       "1673  Is there a reason or theory as to why Earth, M...  \n",
       "1683  Elementary particles don't have a size in the ...  \n",
       "1689  What is \"instinct\" Like how do animals just \"k...  \n",
       "1738  What are the most promising hypotheses for why...  \n",
       "1756  With rising sea levels and lack of desalinated...  \n",
       "1776  So our bodies have billions of microorganisms ...  \n",
       "1793  Math question, sorry if this sounds dumb: How ...  \n",
       "1885  I understand that if I get in a ship and trave...  \n",
       "1888  Has your scientific perspective given you any ...  \n",
       "1898  Can you explain the science (neuro, psych, bio...  "
      ]
     },
     "execution_count": 14,
     "metadata": {},
     "output_type": "execute_result"
    }
   ],
   "source": [
    "reddit_remaining.loc[reddit_remaining['title'].duplicated()] # Turns out askscience has a recurring weekly thread that works differently than a typical thread\n",
    "                                                             # here the main comments are questions and not answers so I will filter these out since they don't fit.\n",
    "                                                             # This does mean that my already truncated askscience group will be shortened but it is what it is.\n",
    "                                                             # The remaining duplicates are just some users trying to get karma by reposting popular questions so they get to stay.\n",
    "                                                             # I do need to isolate the one repeated AskScience thread however."
   ]
  },
  {
   "cell_type": "code",
   "execution_count": 15,
   "metadata": {},
   "outputs": [],
   "source": [
    "repeated_askscience = reddit_remaining.loc[(reddit_remaining['title'].duplicated()) & (reddit_remaining['subreddit'] == 'AskScience') & (reddit_remaining['title'] != 'What is the smallest possible black hole?')]['title'].tolist()"
   ]
  },
  {
   "cell_type": "code",
   "execution_count": 16,
   "metadata": {},
   "outputs": [],
   "source": [
    "reddit_no_dupes = reddit_remaining.loc[~reddit_remaining['title'].isin(repeated_askscience)]  # removes all duplicated askScience weekly threads"
   ]
  },
  {
   "cell_type": "code",
   "execution_count": 17,
   "metadata": {},
   "outputs": [
    {
     "data": {
      "text/plain": [
       "(1782, 3)"
      ]
     },
     "execution_count": 17,
     "metadata": {},
     "output_type": "execute_result"
    }
   ],
   "source": [
    "reddit_no_dupes.shape # Leaves me barely on track to get to 5000 with my remaining subreddits which is moderately troubling"
   ]
  },
  {
   "cell_type": "markdown",
   "metadata": {},
   "source": [
    "Some titles have [Serious] or [NSFW] tags, testing using the browser chatGPT shows the [NSFW] tag can break responses. [Serious] is somewhat important however so I want to keep that tag."
   ]
  },
  {
   "cell_type": "code",
   "execution_count": 20,
   "metadata": {},
   "outputs": [],
   "source": [
    "no_nsfw_brackets = reddit_no_dupes['title'].copy(deep = True).apply(lambda x: re.sub(r'\\[NSFW\\]', '', x))"
   ]
  },
  {
   "cell_type": "code",
   "execution_count": 21,
   "metadata": {},
   "outputs": [
    {
     "data": {
      "text/plain": [
       "(1782,)"
      ]
     },
     "execution_count": 21,
     "metadata": {},
     "output_type": "execute_result"
    }
   ],
   "source": [
    "no_nsfw_brackets.shape"
   ]
  },
  {
   "cell_type": "code",
   "execution_count": 22,
   "metadata": {},
   "outputs": [],
   "source": [
    "no_nsfw_tags = no_nsfw_brackets.copy(deep = True).apply(lambda x: re.sub(r'\\(NSFW\\)', '', x)) # one post used parenthesis for some reason so lets fix that too. I also checked [nsfw] and (nsfw) which had no occurences"
   ]
  },
  {
   "cell_type": "code",
   "execution_count": 23,
   "metadata": {},
   "outputs": [
    {
     "data": {
      "text/plain": [
       "(1782,)"
      ]
     },
     "execution_count": 23,
     "metadata": {},
     "output_type": "execute_result"
    }
   ],
   "source": [
    "no_nsfw_tags.shape"
   ]
  },
  {
   "cell_type": "code",
   "execution_count": 24,
   "metadata": {},
   "outputs": [
    {
     "name": "stderr",
     "output_type": "stream",
     "text": [
      "C:\\Users\\vijay\\AppData\\Local\\Temp\\ipykernel_16612\\1066519900.py:1: SettingWithCopyWarning: \n",
      "A value is trying to be set on a copy of a slice from a DataFrame.\n",
      "Try using .loc[row_indexer,col_indexer] = value instead\n",
      "\n",
      "See the caveats in the documentation: https://pandas.pydata.org/pandas-docs/stable/user_guide/indexing.html#returning-a-view-versus-a-copy\n",
      "  reddit_no_dupes.loc[:, 'title'] = no_nsfw_tags.tolist()\n"
     ]
    }
   ],
   "source": [
    "reddit_no_dupes.loc[:, 'title'] = no_nsfw_tags.tolist()"
   ]
  },
  {
   "cell_type": "code",
   "execution_count": 25,
   "metadata": {},
   "outputs": [
    {
     "data": {
      "text/html": [
       "<div>\n",
       "<style scoped>\n",
       "    .dataframe tbody tr th:only-of-type {\n",
       "        vertical-align: middle;\n",
       "    }\n",
       "\n",
       "    .dataframe tbody tr th {\n",
       "        vertical-align: top;\n",
       "    }\n",
       "\n",
       "    .dataframe thead th {\n",
       "        text-align: right;\n",
       "    }\n",
       "</style>\n",
       "<table border=\"1\" class=\"dataframe\">\n",
       "  <thead>\n",
       "    <tr style=\"text-align: right;\">\n",
       "      <th></th>\n",
       "      <th>subreddit</th>\n",
       "      <th>title</th>\n",
       "      <th>comment</th>\n",
       "    </tr>\n",
       "  </thead>\n",
       "  <tbody>\n",
       "  </tbody>\n",
       "</table>\n",
       "</div>"
      ],
      "text/plain": [
       "Empty DataFrame\n",
       "Columns: [subreddit, title, comment]\n",
       "Index: []"
      ]
     },
     "execution_count": 25,
     "metadata": {},
     "output_type": "execute_result"
    }
   ],
   "source": [
    "reddit_no_dupes[reddit_no_dupes['title'].str.contains('\\[NSFW\\]')]"
   ]
  },
  {
   "cell_type": "code",
   "execution_count": 26,
   "metadata": {},
   "outputs": [],
   "source": [
    "#reddit_no_dupes.to_csv('../cleaned_reddit_data/cleaned_ask_reddit_science.csv', index = False)"
   ]
  },
  {
   "cell_type": "code",
   "execution_count": 47,
   "metadata": {},
   "outputs": [],
   "source": [
    "ah = pd.read_csv('AskHistory.csv')\n",
    "eli5 = pd.read_csv('explainlikeimfive.csv')\n",
    "nsq = pd.read_csv('NoStupidQuestions.csv')\n",
    "dae = pd.read_csv('DoesAnybodyElse.csv')"
   ]
  },
  {
   "cell_type": "code",
   "execution_count": 48,
   "metadata": {},
   "outputs": [
    {
     "data": {
      "text/plain": [
       "(938, 3)"
      ]
     },
     "execution_count": 48,
     "metadata": {},
     "output_type": "execute_result"
    }
   ],
   "source": [
    "ah.shape"
   ]
  },
  {
   "cell_type": "code",
   "execution_count": 49,
   "metadata": {},
   "outputs": [
    {
     "data": {
      "text/plain": [
       "(1000, 3)"
      ]
     },
     "execution_count": 49,
     "metadata": {},
     "output_type": "execute_result"
    }
   ],
   "source": [
    "eli5.shape"
   ]
  },
  {
   "cell_type": "code",
   "execution_count": 50,
   "metadata": {},
   "outputs": [
    {
     "data": {
      "text/plain": [
       "(999, 3)"
      ]
     },
     "execution_count": 50,
     "metadata": {},
     "output_type": "execute_result"
    }
   ],
   "source": [
    "nsq.shape"
   ]
  },
  {
   "cell_type": "code",
   "execution_count": 51,
   "metadata": {},
   "outputs": [
    {
     "data": {
      "text/plain": [
       "(1000, 3)"
      ]
     },
     "execution_count": 51,
     "metadata": {},
     "output_type": "execute_result"
    }
   ],
   "source": [
    "dae.shape"
   ]
  },
  {
   "cell_type": "markdown",
   "metadata": {},
   "source": [
    "Below is the same process as above but applied to the remaining data once it was gathered."
   ]
  },
  {
   "cell_type": "code",
   "execution_count": 52,
   "metadata": {},
   "outputs": [],
   "source": [
    "ah_remaining = ah[(ah['comment'] != '[removed]') & (ah['comment'] != '[deleted]')]\n",
    "eli5_remaining = eli5[(eli5['comment'] != '[removed]') & (eli5['comment'] != '[deleted]')]\n",
    "nsq_remaining  = nsq[(nsq['comment'] != '[removed]') & (nsq['comment'] != '[deleted]')]\n",
    "dae_remaining = dae[(dae['comment'] != '[removed]') & (dae['comment'] != '[deleted]')]"
   ]
  },
  {
   "cell_type": "code",
   "execution_count": 53,
   "metadata": {},
   "outputs": [
    {
     "name": "stdout",
     "output_type": "stream",
     "text": [
      "AskHistorians rows: 776\n",
      "ELI5 rows: 926\n",
      "NSQ rows: 960\n",
      "DAE rows: 976\n"
     ]
    }
   ],
   "source": [
    "print(f\"AskHistorians rows: {ah_remaining.shape[0]}\") # Ask Historians has a ton of removed top comments because they have issues with brigading and misinformation due to political biases\n",
    "print(f\"ELI5 rows: {eli5_remaining.shape[0]}\")\n",
    "print(f\"NSQ rows: {nsq_remaining.shape[0]}\")\n",
    "print(f\"DAE rows: {dae_remaining.shape[0]}\")"
   ]
  },
  {
   "cell_type": "code",
   "execution_count": 54,
   "metadata": {},
   "outputs": [],
   "source": [
    "# merging them all into one to save a bit of effort\n",
    "merged_remaining = pd.concat([ah_remaining, eli5_remaining, nsq_remaining, dae_remaining], axis = 0)"
   ]
  },
  {
   "cell_type": "code",
   "execution_count": 55,
   "metadata": {},
   "outputs": [
    {
     "data": {
      "text/plain": [
       "(3638, 3)"
      ]
     },
     "execution_count": 55,
     "metadata": {},
     "output_type": "execute_result"
    }
   ],
   "source": [
    "merged_remaining.shape"
   ]
  },
  {
   "cell_type": "code",
   "execution_count": 56,
   "metadata": {},
   "outputs": [
    {
     "data": {
      "text/plain": [
       "2"
      ]
     },
     "execution_count": 56,
     "metadata": {},
     "output_type": "execute_result"
    }
   ],
   "source": [
    "merged_remaining['title'].duplicated().sum() # 2 duplicated thread titles"
   ]
  },
  {
   "cell_type": "code",
   "execution_count": 58,
   "metadata": {},
   "outputs": [
    {
     "data": {
      "text/plain": [
       "6"
      ]
     },
     "execution_count": 58,
     "metadata": {},
     "output_type": "execute_result"
    }
   ],
   "source": [
    "merged_remaining['comment'].duplicated().sum() # 6 duplicated comments"
   ]
  },
  {
   "cell_type": "code",
   "execution_count": 59,
   "metadata": {},
   "outputs": [
    {
     "data": {
      "text/html": [
       "<div>\n",
       "<style scoped>\n",
       "    .dataframe tbody tr th:only-of-type {\n",
       "        vertical-align: middle;\n",
       "    }\n",
       "\n",
       "    .dataframe tbody tr th {\n",
       "        vertical-align: top;\n",
       "    }\n",
       "\n",
       "    .dataframe thead th {\n",
       "        text-align: right;\n",
       "    }\n",
       "</style>\n",
       "<table border=\"1\" class=\"dataframe\">\n",
       "  <thead>\n",
       "    <tr style=\"text-align: right;\">\n",
       "      <th></th>\n",
       "      <th>subreddit</th>\n",
       "      <th>title</th>\n",
       "      <th>comment</th>\n",
       "    </tr>\n",
       "  </thead>\n",
       "  <tbody>\n",
       "    <tr>\n",
       "      <th>153</th>\n",
       "      <td>explainlikeimfive</td>\n",
       "      <td>eli5: Since caffeine doesn’t actually give you...</td>\n",
       "      <td>This post removed in protest. Visit /r/Save3rd...</td>\n",
       "    </tr>\n",
       "    <tr>\n",
       "      <th>194</th>\n",
       "      <td>explainlikeimfive</td>\n",
       "      <td>ELI5: How did global carbon dioxide emissions ...</td>\n",
       "      <td>This post removed in protest. Visit /r/Save3rd...</td>\n",
       "    </tr>\n",
       "    <tr>\n",
       "      <th>312</th>\n",
       "      <td>explainlikeimfive</td>\n",
       "      <td>ELI5 those gold/silver emergency blankets: do ...</td>\n",
       "      <td>This post removed in protest. Visit /r/Save3rd...</td>\n",
       "    </tr>\n",
       "    <tr>\n",
       "      <th>679</th>\n",
       "      <td>explainlikeimfive</td>\n",
       "      <td>ELI5: What is a bad faith arguement, exactly?</td>\n",
       "      <td>This post removed in protest. Visit /r/Save3rd...</td>\n",
       "    </tr>\n",
       "    <tr>\n",
       "      <th>736</th>\n",
       "      <td>explainlikeimfive</td>\n",
       "      <td>ELI5: Why is Helium so difficult to synthesize?</td>\n",
       "      <td>This post removed in protest. Visit /r/Save3rd...</td>\n",
       "    </tr>\n",
       "    <tr>\n",
       "      <th>875</th>\n",
       "      <td>explainlikeimfive</td>\n",
       "      <td>Eli5 How does radiation therapy actually work?...</td>\n",
       "      <td>This post removed in protest. Visit /r/Save3rd...</td>\n",
       "    </tr>\n",
       "    <tr>\n",
       "      <th>55</th>\n",
       "      <td>DoesAnybodyElse</td>\n",
       "      <td>DAE type out a whole post or reply but immedia...</td>\n",
       "      <td>For me it's more like 'wow no one gives a shit...</td>\n",
       "    </tr>\n",
       "    <tr>\n",
       "      <th>168</th>\n",
       "      <td>DoesAnybodyElse</td>\n",
       "      <td>DAE think that, from a certain age, elderly pe...</td>\n",
       "      <td>Honestly I think that all drivers should be te...</td>\n",
       "    </tr>\n",
       "  </tbody>\n",
       "</table>\n",
       "</div>"
      ],
      "text/plain": [
       "             subreddit                                              title  \\\n",
       "153  explainlikeimfive  eli5: Since caffeine doesn’t actually give you...   \n",
       "194  explainlikeimfive  ELI5: How did global carbon dioxide emissions ...   \n",
       "312  explainlikeimfive  ELI5 those gold/silver emergency blankets: do ...   \n",
       "679  explainlikeimfive      ELI5: What is a bad faith arguement, exactly?   \n",
       "736  explainlikeimfive    ELI5: Why is Helium so difficult to synthesize?   \n",
       "875  explainlikeimfive  Eli5 How does radiation therapy actually work?...   \n",
       "55     DoesAnybodyElse  DAE type out a whole post or reply but immedia...   \n",
       "168    DoesAnybodyElse  DAE think that, from a certain age, elderly pe...   \n",
       "\n",
       "                                               comment  \n",
       "153  This post removed in protest. Visit /r/Save3rd...  \n",
       "194  This post removed in protest. Visit /r/Save3rd...  \n",
       "312  This post removed in protest. Visit /r/Save3rd...  \n",
       "679  This post removed in protest. Visit /r/Save3rd...  \n",
       "736  This post removed in protest. Visit /r/Save3rd...  \n",
       "875  This post removed in protest. Visit /r/Save3rd...  \n",
       "55   For me it's more like 'wow no one gives a shit...  \n",
       "168  Honestly I think that all drivers should be te...  "
      ]
     },
     "execution_count": 59,
     "metadata": {},
     "output_type": "execute_result"
    }
   ],
   "source": [
    "merged_remaining.loc[(merged_remaining['title'].duplicated()) | (merged_remaining['comment'].duplicated())]  # Looks like ELI5 had some users that deleted their posts due to blackouts using a script in some way\n",
    "                                                                                                             # The two DAE repeats are interesting, likely those are the two thread repeats for karma farming reasons"
   ]
  },
  {
   "cell_type": "code",
   "execution_count": 61,
   "metadata": {},
   "outputs": [],
   "source": [
    "dupes = merged_remaining.loc[(merged_remaining['title'].duplicated()) | (merged_remaining['comment'].duplicated())]"
   ]
  },
  {
   "cell_type": "code",
   "execution_count": 71,
   "metadata": {},
   "outputs": [
    {
     "data": {
      "text/html": [
       "<div>\n",
       "<style scoped>\n",
       "    .dataframe tbody tr th:only-of-type {\n",
       "        vertical-align: middle;\n",
       "    }\n",
       "\n",
       "    .dataframe tbody tr th {\n",
       "        vertical-align: top;\n",
       "    }\n",
       "\n",
       "    .dataframe thead th {\n",
       "        text-align: right;\n",
       "    }\n",
       "</style>\n",
       "<table border=\"1\" class=\"dataframe\">\n",
       "  <thead>\n",
       "    <tr style=\"text-align: right;\">\n",
       "      <th></th>\n",
       "      <th>subreddit</th>\n",
       "      <th>title</th>\n",
       "      <th>comment</th>\n",
       "    </tr>\n",
       "  </thead>\n",
       "  <tbody>\n",
       "    <tr>\n",
       "      <th>0</th>\n",
       "      <td>DoesAnybodyElse</td>\n",
       "      <td>DAE think that, from a certain age, elderly pe...</td>\n",
       "      <td>In NZ \"You need to renew your driver licence a...</td>\n",
       "    </tr>\n",
       "    <tr>\n",
       "      <th>168</th>\n",
       "      <td>DoesAnybodyElse</td>\n",
       "      <td>DAE think that, from a certain age, elderly pe...</td>\n",
       "      <td>Honestly I think that all drivers should be te...</td>\n",
       "    </tr>\n",
       "  </tbody>\n",
       "</table>\n",
       "</div>"
      ],
      "text/plain": [
       "           subreddit                                              title  \\\n",
       "0    DoesAnybodyElse  DAE think that, from a certain age, elderly pe...   \n",
       "168  DoesAnybodyElse  DAE think that, from a certain age, elderly pe...   \n",
       "\n",
       "                                               comment  \n",
       "0    In NZ \"You need to renew your driver licence a...  \n",
       "168  Honestly I think that all drivers should be te...  "
      ]
     },
     "execution_count": 71,
     "metadata": {},
     "output_type": "execute_result"
    }
   ],
   "source": [
    "merged_remaining.loc[merged_remaining['title'] == dupes['title'][168]] # The threads have different reponses so its not that unfair to include both I think, the temperature param SHOULD make the answers different by a bit"
   ]
  },
  {
   "cell_type": "code",
   "execution_count": 73,
   "metadata": {},
   "outputs": [
    {
     "data": {
      "text/html": [
       "<div>\n",
       "<style scoped>\n",
       "    .dataframe tbody tr th:only-of-type {\n",
       "        vertical-align: middle;\n",
       "    }\n",
       "\n",
       "    .dataframe tbody tr th {\n",
       "        vertical-align: top;\n",
       "    }\n",
       "\n",
       "    .dataframe thead th {\n",
       "        text-align: right;\n",
       "    }\n",
       "</style>\n",
       "<table border=\"1\" class=\"dataframe\">\n",
       "  <thead>\n",
       "    <tr style=\"text-align: right;\">\n",
       "      <th></th>\n",
       "      <th>subreddit</th>\n",
       "      <th>title</th>\n",
       "      <th>comment</th>\n",
       "    </tr>\n",
       "  </thead>\n",
       "  <tbody>\n",
       "    <tr>\n",
       "      <th>2</th>\n",
       "      <td>DoesAnybodyElse</td>\n",
       "      <td>DAE type out a whole post or reply but immedia...</td>\n",
       "      <td>How many times did you delete and retype this ...</td>\n",
       "    </tr>\n",
       "    <tr>\n",
       "      <th>55</th>\n",
       "      <td>DoesAnybodyElse</td>\n",
       "      <td>DAE type out a whole post or reply but immedia...</td>\n",
       "      <td>For me it's more like 'wow no one gives a shit...</td>\n",
       "    </tr>\n",
       "  </tbody>\n",
       "</table>\n",
       "</div>"
      ],
      "text/plain": [
       "          subreddit                                              title  \\\n",
       "2   DoesAnybodyElse  DAE type out a whole post or reply but immedia...   \n",
       "55  DoesAnybodyElse  DAE type out a whole post or reply but immedia...   \n",
       "\n",
       "                                              comment  \n",
       "2   How many times did you delete and retype this ...  \n",
       "55  For me it's more like 'wow no one gives a shit...  "
      ]
     },
     "execution_count": 73,
     "metadata": {},
     "output_type": "execute_result"
    }
   ],
   "source": [
    "merged_remaining.loc[merged_remaining['title'] == dupes['title'][55]] # Again a repost with a different answer so I'll include this as well"
   ]
  },
  {
   "cell_type": "code",
   "execution_count": 74,
   "metadata": {},
   "outputs": [
    {
     "data": {
      "text/html": [
       "<div>\n",
       "<style scoped>\n",
       "    .dataframe tbody tr th:only-of-type {\n",
       "        vertical-align: middle;\n",
       "    }\n",
       "\n",
       "    .dataframe tbody tr th {\n",
       "        vertical-align: top;\n",
       "    }\n",
       "\n",
       "    .dataframe thead th {\n",
       "        text-align: right;\n",
       "    }\n",
       "</style>\n",
       "<table border=\"1\" class=\"dataframe\">\n",
       "  <thead>\n",
       "    <tr style=\"text-align: right;\">\n",
       "      <th></th>\n",
       "      <th>subreddit</th>\n",
       "      <th>title</th>\n",
       "      <th>comment</th>\n",
       "    </tr>\n",
       "  </thead>\n",
       "  <tbody>\n",
       "    <tr>\n",
       "      <th>98</th>\n",
       "      <td>explainlikeimfive</td>\n",
       "      <td>eli5 With billions and billions of people over...</td>\n",
       "      <td>This post removed in protest. Visit /r/Save3rd...</td>\n",
       "    </tr>\n",
       "    <tr>\n",
       "      <th>153</th>\n",
       "      <td>explainlikeimfive</td>\n",
       "      <td>eli5: Since caffeine doesn’t actually give you...</td>\n",
       "      <td>This post removed in protest. Visit /r/Save3rd...</td>\n",
       "    </tr>\n",
       "    <tr>\n",
       "      <th>194</th>\n",
       "      <td>explainlikeimfive</td>\n",
       "      <td>ELI5: How did global carbon dioxide emissions ...</td>\n",
       "      <td>This post removed in protest. Visit /r/Save3rd...</td>\n",
       "    </tr>\n",
       "    <tr>\n",
       "      <th>312</th>\n",
       "      <td>explainlikeimfive</td>\n",
       "      <td>ELI5 those gold/silver emergency blankets: do ...</td>\n",
       "      <td>This post removed in protest. Visit /r/Save3rd...</td>\n",
       "    </tr>\n",
       "    <tr>\n",
       "      <th>679</th>\n",
       "      <td>explainlikeimfive</td>\n",
       "      <td>ELI5: What is a bad faith arguement, exactly?</td>\n",
       "      <td>This post removed in protest. Visit /r/Save3rd...</td>\n",
       "    </tr>\n",
       "    <tr>\n",
       "      <th>736</th>\n",
       "      <td>explainlikeimfive</td>\n",
       "      <td>ELI5: Why is Helium so difficult to synthesize?</td>\n",
       "      <td>This post removed in protest. Visit /r/Save3rd...</td>\n",
       "    </tr>\n",
       "    <tr>\n",
       "      <th>875</th>\n",
       "      <td>explainlikeimfive</td>\n",
       "      <td>Eli5 How does radiation therapy actually work?...</td>\n",
       "      <td>This post removed in protest. Visit /r/Save3rd...</td>\n",
       "    </tr>\n",
       "  </tbody>\n",
       "</table>\n",
       "</div>"
      ],
      "text/plain": [
       "             subreddit                                              title  \\\n",
       "98   explainlikeimfive  eli5 With billions and billions of people over...   \n",
       "153  explainlikeimfive  eli5: Since caffeine doesn’t actually give you...   \n",
       "194  explainlikeimfive  ELI5: How did global carbon dioxide emissions ...   \n",
       "312  explainlikeimfive  ELI5 those gold/silver emergency blankets: do ...   \n",
       "679  explainlikeimfive      ELI5: What is a bad faith arguement, exactly?   \n",
       "736  explainlikeimfive    ELI5: Why is Helium so difficult to synthesize?   \n",
       "875  explainlikeimfive  Eli5 How does radiation therapy actually work?...   \n",
       "\n",
       "                                               comment  \n",
       "98   This post removed in protest. Visit /r/Save3rd...  \n",
       "153  This post removed in protest. Visit /r/Save3rd...  \n",
       "194  This post removed in protest. Visit /r/Save3rd...  \n",
       "312  This post removed in protest. Visit /r/Save3rd...  \n",
       "679  This post removed in protest. Visit /r/Save3rd...  \n",
       "736  This post removed in protest. Visit /r/Save3rd...  \n",
       "875  This post removed in protest. Visit /r/Save3rd...  "
      ]
     },
     "execution_count": 74,
     "metadata": {},
     "output_type": "execute_result"
    }
   ],
   "source": [
    "merged_remaining.loc[merged_remaining['comment'] == dupes['comment'][153]] # these need to go however"
   ]
  },
  {
   "cell_type": "code",
   "execution_count": 75,
   "metadata": {},
   "outputs": [],
   "source": [
    "merged_no_dupes = merged_remaining.loc[merged_remaining['comment'] != dupes['comment'][153]]  # removes all duplicated reddit blackout protest comments"
   ]
  },
  {
   "cell_type": "code",
   "execution_count": 76,
   "metadata": {},
   "outputs": [
    {
     "data": {
      "text/plain": [
       "(3631, 3)"
      ]
     },
     "execution_count": 76,
     "metadata": {},
     "output_type": "execute_result"
    }
   ],
   "source": [
    "merged_no_dupes.shape # Filtered out the 7 removed comments"
   ]
  },
  {
   "cell_type": "code",
   "execution_count": 78,
   "metadata": {},
   "outputs": [
    {
     "data": {
      "text/plain": [
       "656    [NSFW] Why does everyone make it seem that onc...\n",
       "Name: title, dtype: object"
      ]
     },
     "execution_count": 78,
     "metadata": {},
     "output_type": "execute_result"
    }
   ],
   "source": [
    "merged_no_dupes['title'][merged_no_dupes['title'].str.contains('\\[NSFW\\]')] # One thread has [NSFW]"
   ]
  },
  {
   "cell_type": "code",
   "execution_count": 79,
   "metadata": {},
   "outputs": [
    {
     "data": {
      "text/plain": [
       "88    DAE (NSFW) Have a porn video that they watched...\n",
       "Name: title, dtype: object"
      ]
     },
     "execution_count": 79,
     "metadata": {},
     "output_type": "execute_result"
    }
   ],
   "source": [
    "merged_no_dupes['title'][merged_no_dupes['title'].str.contains('\\(NSFW\\)')] # Another one with parentheses"
   ]
  },
  {
   "cell_type": "code",
   "execution_count": 82,
   "metadata": {},
   "outputs": [
    {
     "data": {
      "text/plain": [
       "165    [SERIOUS] How do i desert the army? I'm russia...\n",
       "Name: title, dtype: object"
      ]
     },
     "execution_count": 82,
     "metadata": {},
     "output_type": "execute_result"
    }
   ],
   "source": [
    "merged_no_dupes['title'][merged_no_dupes['title'].str.contains('\\[SERIOUS\\]')] # One with SERIOUS so that will need to go"
   ]
  },
  {
   "cell_type": "code",
   "execution_count": 84,
   "metadata": {},
   "outputs": [],
   "source": [
    "cleaned_titles = merged_no_dupes['title'].apply(lambda x: re.sub('\\(NSFW\\)', '', re.sub('\\[SERIOUS\\]', '', re.sub(r'\\[NSFW\\]', '', x))))"
   ]
  },
  {
   "cell_type": "code",
   "execution_count": 85,
   "metadata": {},
   "outputs": [
    {
     "name": "stderr",
     "output_type": "stream",
     "text": [
      "C:\\Users\\vijay\\AppData\\Local\\Temp\\ipykernel_16612\\1833431101.py:1: SettingWithCopyWarning: \n",
      "A value is trying to be set on a copy of a slice from a DataFrame.\n",
      "Try using .loc[row_indexer,col_indexer] = value instead\n",
      "\n",
      "See the caveats in the documentation: https://pandas.pydata.org/pandas-docs/stable/user_guide/indexing.html#returning-a-view-versus-a-copy\n",
      "  merged_no_dupes.loc[:, 'title'] = cleaned_titles\n"
     ]
    }
   ],
   "source": [
    "merged_no_dupes.loc[:, 'title'] = cleaned_titles"
   ]
  },
  {
   "cell_type": "code",
   "execution_count": 86,
   "metadata": {},
   "outputs": [
    {
     "data": {
      "text/html": [
       "<div>\n",
       "<style scoped>\n",
       "    .dataframe tbody tr th:only-of-type {\n",
       "        vertical-align: middle;\n",
       "    }\n",
       "\n",
       "    .dataframe tbody tr th {\n",
       "        vertical-align: top;\n",
       "    }\n",
       "\n",
       "    .dataframe thead th {\n",
       "        text-align: right;\n",
       "    }\n",
       "</style>\n",
       "<table border=\"1\" class=\"dataframe\">\n",
       "  <thead>\n",
       "    <tr style=\"text-align: right;\">\n",
       "      <th></th>\n",
       "      <th>subreddit</th>\n",
       "      <th>title</th>\n",
       "      <th>comment</th>\n",
       "    </tr>\n",
       "  </thead>\n",
       "  <tbody>\n",
       "    <tr>\n",
       "      <th>0</th>\n",
       "      <td>AskHistorians</td>\n",
       "      <td>Could people do backflips/front flips in ancie...</td>\n",
       "      <td>Some of the earliest images of people doing fl...</td>\n",
       "    </tr>\n",
       "    <tr>\n",
       "      <th>1</th>\n",
       "      <td>AskHistorians</td>\n",
       "      <td>How did the USA go from robust trade unions, a...</td>\n",
       "      <td>Unfortunately on taxation rates, the presumpti...</td>\n",
       "    </tr>\n",
       "    <tr>\n",
       "      <th>2</th>\n",
       "      <td>AskHistorians</td>\n",
       "      <td>What pop history book has done the most damage...</td>\n",
       "      <td>\"The Gangs of New York\" is a very entertaining...</td>\n",
       "    </tr>\n",
       "    <tr>\n",
       "      <th>3</th>\n",
       "      <td>AskHistorians</td>\n",
       "      <td>How would a professional historian look for th...</td>\n",
       "      <td># Gandalf’s Reference Desk Query\\n\\nA little r...</td>\n",
       "    </tr>\n",
       "    <tr>\n",
       "      <th>4</th>\n",
       "      <td>AskHistorians</td>\n",
       "      <td>The aftermath of Kanye West’s antisemitic rhet...</td>\n",
       "      <td>Black Hebrew mythology originates from the sam...</td>\n",
       "    </tr>\n",
       "  </tbody>\n",
       "</table>\n",
       "</div>"
      ],
      "text/plain": [
       "       subreddit                                              title  \\\n",
       "0  AskHistorians  Could people do backflips/front flips in ancie...   \n",
       "1  AskHistorians  How did the USA go from robust trade unions, a...   \n",
       "2  AskHistorians  What pop history book has done the most damage...   \n",
       "3  AskHistorians  How would a professional historian look for th...   \n",
       "4  AskHistorians  The aftermath of Kanye West’s antisemitic rhet...   \n",
       "\n",
       "                                             comment  \n",
       "0  Some of the earliest images of people doing fl...  \n",
       "1  Unfortunately on taxation rates, the presumpti...  \n",
       "2  \"The Gangs of New York\" is a very entertaining...  \n",
       "3  # Gandalf’s Reference Desk Query\\n\\nA little r...  \n",
       "4  Black Hebrew mythology originates from the sam...  "
      ]
     },
     "execution_count": 86,
     "metadata": {},
     "output_type": "execute_result"
    }
   ],
   "source": [
    "merged_no_dupes.head()"
   ]
  },
  {
   "cell_type": "code",
   "execution_count": 87,
   "metadata": {},
   "outputs": [],
   "source": [
    "#merged_no_dupes.to_csv('../cleaned_reddit_data/cleaned_remaining_subs.csv', index = False)"
   ]
  }
 ],
 "metadata": {
  "kernelspec": {
   "display_name": "base",
   "language": "python",
   "name": "python3"
  },
  "language_info": {
   "codemirror_mode": {
    "name": "ipython",
    "version": 3
   },
   "file_extension": ".py",
   "mimetype": "text/x-python",
   "name": "python",
   "nbconvert_exporter": "python",
   "pygments_lexer": "ipython3",
   "version": "3.11.3"
  },
  "orig_nbformat": 4
 },
 "nbformat": 4,
 "nbformat_minor": 2
}
