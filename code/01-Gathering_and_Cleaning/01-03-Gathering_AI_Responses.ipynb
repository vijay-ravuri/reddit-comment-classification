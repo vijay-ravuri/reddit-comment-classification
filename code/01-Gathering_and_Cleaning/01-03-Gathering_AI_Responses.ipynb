{
 "cells": [
  {
   "cell_type": "markdown",
   "metadata": {},
   "source": [
    "This notebook was used to access the OpenAI API to gather AI-generated responses to our reddit threads. Its split into two parts because I gathered the first chunk of my data (AskReddit and askscience) first and gathered my responses while I was working on gathering the second chunk of my reddit data. The second chunk is processed in the second half of this notebook."
   ]
  },
  {
   "cell_type": "code",
   "execution_count": 1,
   "metadata": {},
   "outputs": [],
   "source": [
    "import openai\n",
    "import os\n",
    "openai.api_key = os.getenv(\"OPENAI_API_KEY\")\n",
    "\n",
    "import time\n",
    "\n",
    "import pandas as pd"
   ]
  },
  {
   "cell_type": "code",
   "execution_count": 2,
   "metadata": {},
   "outputs": [],
   "source": [
    "df = pd.read_csv('../../data/cleaned_reddit_data/cleaned_ask_reddit_science.csv')"
   ]
  },
  {
   "cell_type": "code",
   "execution_count": 3,
   "metadata": {},
   "outputs": [
    {
     "data": {
      "text/plain": [
       "1782"
      ]
     },
     "execution_count": 3,
     "metadata": {},
     "output_type": "execute_result"
    }
   ],
   "source": [
    "df.shape[0]"
   ]
  },
  {
   "cell_type": "code",
   "execution_count": 4,
   "metadata": {},
   "outputs": [],
   "source": [
    "# https://stackoverflow.com/a/49563326\n",
    "n = 10  #chunk row size\n",
    "list_df = [df[i:i+n] for i in range(0,df.shape[0],n)] "
   ]
  },
  {
   "cell_type": "code",
   "execution_count": 5,
   "metadata": {},
   "outputs": [
    {
     "data": {
      "text/html": [
       "<div>\n",
       "<style scoped>\n",
       "    .dataframe tbody tr th:only-of-type {\n",
       "        vertical-align: middle;\n",
       "    }\n",
       "\n",
       "    .dataframe tbody tr th {\n",
       "        vertical-align: top;\n",
       "    }\n",
       "\n",
       "    .dataframe thead th {\n",
       "        text-align: right;\n",
       "    }\n",
       "</style>\n",
       "<table border=\"1\" class=\"dataframe\">\n",
       "  <thead>\n",
       "    <tr style=\"text-align: right;\">\n",
       "      <th></th>\n",
       "      <th>subreddit</th>\n",
       "      <th>title</th>\n",
       "      <th>comment</th>\n",
       "    </tr>\n",
       "  </thead>\n",
       "  <tbody>\n",
       "    <tr>\n",
       "      <th>1780</th>\n",
       "      <td>AskScience</td>\n",
       "      <td>Is there a term for lake bottoms that \"hour gl...</td>\n",
       "      <td>I don’t know any specific term. A lake like yo...</td>\n",
       "    </tr>\n",
       "    <tr>\n",
       "      <th>1781</th>\n",
       "      <td>AskScience</td>\n",
       "      <td>When a military helicopter fires thousands of ...</td>\n",
       "      <td>You don't really slow the rotor, changing its ...</td>\n",
       "    </tr>\n",
       "  </tbody>\n",
       "</table>\n",
       "</div>"
      ],
      "text/plain": [
       "       subreddit                                              title  \\\n",
       "1780  AskScience  Is there a term for lake bottoms that \"hour gl...   \n",
       "1781  AskScience  When a military helicopter fires thousands of ...   \n",
       "\n",
       "                                                comment  \n",
       "1780  I don’t know any specific term. A lake like yo...  \n",
       "1781  You don't really slow the rotor, changing its ...  "
      ]
     },
     "execution_count": 5,
     "metadata": {},
     "output_type": "execute_result"
    }
   ],
   "source": [
    "list_df[-1] # This method preserves the last bit that doesn't fit in sets of 10"
   ]
  },
  {
   "cell_type": "code",
   "execution_count": 36,
   "metadata": {},
   "outputs": [],
   "source": [
    "# responses = []\n",
    "# for data in list_df:\n",
    "#     prompts = ['Respond to the following post as a user of {}: {}'.format(sub, title) for sub, title in zip(data['subreddit'], data['title'])]\n",
    "#     dv_responses = openai.Completion.create(\n",
    "#         model = 'text-davinci-003',\n",
    "#         prompt = prompts,\n",
    "#         max_tokens = 500,\n",
    "#         temperature = 0.6\n",
    "#     )\n",
    "#     responses.append(dv_responses)\n",
    "#     time.sleep(20)"
   ]
  },
  {
   "cell_type": "code",
   "execution_count": 38,
   "metadata": {},
   "outputs": [],
   "source": [
    "# Quick function to extract the responses only from each batch of calls\n",
    "def cleaner(batch): \n",
    "    return [text['text'].strip() for text in batch.choices]"
   ]
  },
  {
   "cell_type": "code",
   "execution_count": 39,
   "metadata": {},
   "outputs": [],
   "source": [
    "cleaned_responses = [cleaner(batch) for batch in responses]"
   ]
  },
  {
   "cell_type": "code",
   "execution_count": 41,
   "metadata": {},
   "outputs": [],
   "source": [
    "from itertools import chain\n",
    "# https://realpython.com/python-flatten-list/"
   ]
  },
  {
   "cell_type": "code",
   "execution_count": 44,
   "metadata": {},
   "outputs": [],
   "source": [
    "flattened_responses = list(chain.from_iterable(cleaned_responses))"
   ]
  },
  {
   "cell_type": "code",
   "execution_count": 45,
   "metadata": {},
   "outputs": [
    {
     "data": {
      "text/plain": [
       "\"I think a good example of this is the story of Gavrilo Princip, the Bosnian Serb who assassinated Archduke Franz Ferdinand of Austria-Hungary and his wife in 1914. While he was labeled a terrorist and was seen as the bad guy in the story, his assassination was actually a catalyst for the liberation of the oppressed people of the Austro-Hungarian empire, and he's now seen as a hero in the Balkans.\""
      ]
     },
     "execution_count": 45,
     "metadata": {},
     "output_type": "execute_result"
    }
   ],
   "source": [
    "cleaned_responses[1][3] # checking that the list flattening worked correctly"
   ]
  },
  {
   "cell_type": "code",
   "execution_count": 47,
   "metadata": {},
   "outputs": [
    {
     "data": {
      "text/plain": [
       "\"I think a good example of this is the story of Gavrilo Princip, the Bosnian Serb who assassinated Archduke Franz Ferdinand of Austria-Hungary and his wife in 1914. While he was labeled a terrorist and was seen as the bad guy in the story, his assassination was actually a catalyst for the liberation of the oppressed people of the Austro-Hungarian empire, and he's now seen as a hero in the Balkans.\""
      ]
     },
     "execution_count": 47,
     "metadata": {},
     "output_type": "execute_result"
    }
   ],
   "source": [
    "flattened_responses[13]"
   ]
  },
  {
   "cell_type": "code",
   "execution_count": 48,
   "metadata": {},
   "outputs": [],
   "source": [
    "df['ai_response'] = flattened_responses"
   ]
  },
  {
   "cell_type": "code",
   "execution_count": 49,
   "metadata": {},
   "outputs": [
    {
     "data": {
      "text/html": [
       "<div>\n",
       "<style scoped>\n",
       "    .dataframe tbody tr th:only-of-type {\n",
       "        vertical-align: middle;\n",
       "    }\n",
       "\n",
       "    .dataframe tbody tr th {\n",
       "        vertical-align: top;\n",
       "    }\n",
       "\n",
       "    .dataframe thead th {\n",
       "        text-align: right;\n",
       "    }\n",
       "</style>\n",
       "<table border=\"1\" class=\"dataframe\">\n",
       "  <thead>\n",
       "    <tr style=\"text-align: right;\">\n",
       "      <th></th>\n",
       "      <th>subreddit</th>\n",
       "      <th>title</th>\n",
       "      <th>comment</th>\n",
       "      <th>ai_response</th>\n",
       "    </tr>\n",
       "  </thead>\n",
       "  <tbody>\n",
       "    <tr>\n",
       "      <th>0</th>\n",
       "      <td>AskReddit</td>\n",
       "      <td>Would you support a mandatory retirement age o...</td>\n",
       "      <td>70 and as for president no one can run over 65...</td>\n",
       "      <td>No, I don't think a mandatory retirement age o...</td>\n",
       "    </tr>\n",
       "    <tr>\n",
       "      <th>1</th>\n",
       "      <td>AskReddit</td>\n",
       "      <td>Now that Reddit are killing 3rd party apps on ...</td>\n",
       "      <td>Without this app, I will actually stop using R...</td>\n",
       "      <td>I'm not sure what the best alternatives to Red...</td>\n",
       "    </tr>\n",
       "    <tr>\n",
       "      <th>2</th>\n",
       "      <td>AskReddit</td>\n",
       "      <td>Bernie Sanders Says US Should Confiscate 100% ...</td>\n",
       "      <td>So maybe someone can try to explain this a bit...</td>\n",
       "      <td>I think Bernie Sanders' suggestion is extreme ...</td>\n",
       "    </tr>\n",
       "    <tr>\n",
       "      <th>3</th>\n",
       "      <td>AskReddit</td>\n",
       "      <td>Richard Feynman said, “Never confuse education...</td>\n",
       "      <td>My wife's stepfather was a chemist who current...</td>\n",
       "      <td>I think a great example of this is people who ...</td>\n",
       "    </tr>\n",
       "    <tr>\n",
       "      <th>4</th>\n",
       "      <td>AskReddit</td>\n",
       "      <td>How much would you pay for a list of everyone ...</td>\n",
       "      <td>$20. Realistically it would be interesting, bu...</td>\n",
       "      <td>I wouldn't pay anything for a list like that. ...</td>\n",
       "    </tr>\n",
       "  </tbody>\n",
       "</table>\n",
       "</div>"
      ],
      "text/plain": [
       "   subreddit                                              title  \\\n",
       "0  AskReddit  Would you support a mandatory retirement age o...   \n",
       "1  AskReddit  Now that Reddit are killing 3rd party apps on ...   \n",
       "2  AskReddit  Bernie Sanders Says US Should Confiscate 100% ...   \n",
       "3  AskReddit  Richard Feynman said, “Never confuse education...   \n",
       "4  AskReddit  How much would you pay for a list of everyone ...   \n",
       "\n",
       "                                             comment  \\\n",
       "0  70 and as for president no one can run over 65...   \n",
       "1  Without this app, I will actually stop using R...   \n",
       "2  So maybe someone can try to explain this a bit...   \n",
       "3  My wife's stepfather was a chemist who current...   \n",
       "4  $20. Realistically it would be interesting, bu...   \n",
       "\n",
       "                                         ai_response  \n",
       "0  No, I don't think a mandatory retirement age o...  \n",
       "1  I'm not sure what the best alternatives to Red...  \n",
       "2  I think Bernie Sanders' suggestion is extreme ...  \n",
       "3  I think a great example of this is people who ...  \n",
       "4  I wouldn't pay anything for a list like that. ...  "
      ]
     },
     "execution_count": 49,
     "metadata": {},
     "output_type": "execute_result"
    }
   ],
   "source": [
    "df.head()"
   ]
  },
  {
   "cell_type": "code",
   "execution_count": 51,
   "metadata": {},
   "outputs": [],
   "source": [
    "#df.to_csv('../../data/ai_responses/ask_reddit_science_final.csv', index = False)"
   ]
  },
  {
   "cell_type": "code",
   "execution_count": 52,
   "metadata": {},
   "outputs": [],
   "source": [
    "# gatheredresponses for remaining subreddits\n",
    "dat = pd.read_csv('../../data/cleaned_reddit_data/cleaned_remaining_subs.csv')"
   ]
  },
  {
   "cell_type": "code",
   "execution_count": 53,
   "metadata": {},
   "outputs": [
    {
     "data": {
      "text/plain": [
       "(3631, 3)"
      ]
     },
     "execution_count": 53,
     "metadata": {},
     "output_type": "execute_result"
    }
   ],
   "source": [
    "dat.shape"
   ]
  },
  {
   "cell_type": "code",
   "execution_count": 55,
   "metadata": {},
   "outputs": [],
   "source": [
    "n = 20  # Doubling chunk size because the max prompts per call should be 20\n",
    "list_dat = [dat[i:i+n] for i in range(0,dat.shape[0],n)] "
   ]
  },
  {
   "cell_type": "code",
   "execution_count": 59,
   "metadata": {},
   "outputs": [
    {
     "data": {
      "text/plain": [
       "(11, 3)"
      ]
     },
     "execution_count": 59,
     "metadata": {},
     "output_type": "execute_result"
    }
   ],
   "source": [
    "list_dat[-1].shape"
   ]
  },
  {
   "cell_type": "code",
   "execution_count": 60,
   "metadata": {},
   "outputs": [],
   "source": [
    "# responses = []\n",
    "# for data in list_dat:\n",
    "#     prompts = ['Respond to the following post as a user of {}: {}'.format(sub, title) for sub, title in zip(data['subreddit'], data['title'])]\n",
    "#     dv_responses = openai.Completion.create(\n",
    "#         model = 'text-davinci-003',\n",
    "#         prompt = prompts,\n",
    "#         max_tokens = 500,\n",
    "#         temperature = 0.6\n",
    "#     )\n",
    "#     responses.append(dv_responses)\n",
    "#     time.sleep(3) # I was low on credits so I had to upgrade and I think the current time limit is low enough sleep shouldn't be needed but just to play it safe I'll set 3 seconds"
   ]
  },
  {
   "cell_type": "code",
   "execution_count": 63,
   "metadata": {},
   "outputs": [
    {
     "data": {
      "text/plain": [
       "True"
      ]
     },
     "execution_count": 63,
     "metadata": {},
     "output_type": "execute_result"
    }
   ],
   "source": [
    "len(responses) == len(list_dat)"
   ]
  },
  {
   "cell_type": "code",
   "execution_count": 64,
   "metadata": {},
   "outputs": [],
   "source": [
    "cleaned_responses = [cleaner(batch) for batch in responses]"
   ]
  },
  {
   "cell_type": "code",
   "execution_count": 65,
   "metadata": {},
   "outputs": [],
   "source": [
    "flattened_responses = list(chain.from_iterable(cleaned_responses))"
   ]
  },
  {
   "cell_type": "code",
   "execution_count": 66,
   "metadata": {},
   "outputs": [
    {
     "data": {
      "text/plain": [
       "'No, the Supreme Court justices did not reach out to the founding fathers to help interpret their intent when writing the Constitution while deliberating cases. The founding fathers were not brought in to give expert testimony. However, Supreme Court justices did rely on the writings of the founding fathers, such as the Federalist Papers, to help them interpret the intent of the Constitution. In addition, the justices would also look to other sources, such as legal treatises, for guidance on Constitutional interpretation.'"
      ]
     },
     "execution_count": 66,
     "metadata": {},
     "output_type": "execute_result"
    }
   ],
   "source": [
    "cleaned_responses[1][3]"
   ]
  },
  {
   "cell_type": "code",
   "execution_count": 68,
   "metadata": {},
   "outputs": [
    {
     "data": {
      "text/plain": [
       "'No, the Supreme Court justices did not reach out to the founding fathers to help interpret their intent when writing the Constitution while deliberating cases. The founding fathers were not brought in to give expert testimony. However, Supreme Court justices did rely on the writings of the founding fathers, such as the Federalist Papers, to help them interpret the intent of the Constitution. In addition, the justices would also look to other sources, such as legal treatises, for guidance on Constitutional interpretation.'"
      ]
     },
     "execution_count": 68,
     "metadata": {},
     "output_type": "execute_result"
    }
   ],
   "source": [
    "flattened_responses[23]"
   ]
  },
  {
   "cell_type": "code",
   "execution_count": 69,
   "metadata": {},
   "outputs": [],
   "source": [
    "dat['ai_response'] = flattened_responses"
   ]
  },
  {
   "cell_type": "code",
   "execution_count": 70,
   "metadata": {},
   "outputs": [
    {
     "data": {
      "text/html": [
       "<div>\n",
       "<style scoped>\n",
       "    .dataframe tbody tr th:only-of-type {\n",
       "        vertical-align: middle;\n",
       "    }\n",
       "\n",
       "    .dataframe tbody tr th {\n",
       "        vertical-align: top;\n",
       "    }\n",
       "\n",
       "    .dataframe thead th {\n",
       "        text-align: right;\n",
       "    }\n",
       "</style>\n",
       "<table border=\"1\" class=\"dataframe\">\n",
       "  <thead>\n",
       "    <tr style=\"text-align: right;\">\n",
       "      <th></th>\n",
       "      <th>subreddit</th>\n",
       "      <th>title</th>\n",
       "      <th>comment</th>\n",
       "      <th>ai_response</th>\n",
       "    </tr>\n",
       "  </thead>\n",
       "  <tbody>\n",
       "    <tr>\n",
       "      <th>0</th>\n",
       "      <td>AskHistorians</td>\n",
       "      <td>Could people do backflips/front flips in ancie...</td>\n",
       "      <td>Some of the earliest images of people doing fl...</td>\n",
       "      <td>Yes, absolutely! In fact, ancient people did a...</td>\n",
       "    </tr>\n",
       "    <tr>\n",
       "      <th>1</th>\n",
       "      <td>AskHistorians</td>\n",
       "      <td>How did the USA go from robust trade unions, a...</td>\n",
       "      <td>Unfortunately on taxation rates, the presumpti...</td>\n",
       "      <td>This is a complex question that requires a len...</td>\n",
       "    </tr>\n",
       "    <tr>\n",
       "      <th>2</th>\n",
       "      <td>AskHistorians</td>\n",
       "      <td>What pop history book has done the most damage...</td>\n",
       "      <td>\"The Gangs of New York\" is a very entertaining...</td>\n",
       "      <td>That's a tough question! I'm not sure which bo...</td>\n",
       "    </tr>\n",
       "    <tr>\n",
       "      <th>3</th>\n",
       "      <td>AskHistorians</td>\n",
       "      <td>How would a professional historian look for th...</td>\n",
       "      <td># Gandalf’s Reference Desk Query\\n\\nA little r...</td>\n",
       "      <td>A professional historian would likely begin by...</td>\n",
       "    </tr>\n",
       "    <tr>\n",
       "      <th>4</th>\n",
       "      <td>AskHistorians</td>\n",
       "      <td>The aftermath of Kanye West’s antisemitic rhet...</td>\n",
       "      <td>Black Hebrew mythology originates from the sam...</td>\n",
       "      <td>This is an interesting question. It's hard to ...</td>\n",
       "    </tr>\n",
       "  </tbody>\n",
       "</table>\n",
       "</div>"
      ],
      "text/plain": [
       "       subreddit                                              title  \\\n",
       "0  AskHistorians  Could people do backflips/front flips in ancie...   \n",
       "1  AskHistorians  How did the USA go from robust trade unions, a...   \n",
       "2  AskHistorians  What pop history book has done the most damage...   \n",
       "3  AskHistorians  How would a professional historian look for th...   \n",
       "4  AskHistorians  The aftermath of Kanye West’s antisemitic rhet...   \n",
       "\n",
       "                                             comment  \\\n",
       "0  Some of the earliest images of people doing fl...   \n",
       "1  Unfortunately on taxation rates, the presumpti...   \n",
       "2  \"The Gangs of New York\" is a very entertaining...   \n",
       "3  # Gandalf’s Reference Desk Query\\n\\nA little r...   \n",
       "4  Black Hebrew mythology originates from the sam...   \n",
       "\n",
       "                                         ai_response  \n",
       "0  Yes, absolutely! In fact, ancient people did a...  \n",
       "1  This is a complex question that requires a len...  \n",
       "2  That's a tough question! I'm not sure which bo...  \n",
       "3  A professional historian would likely begin by...  \n",
       "4  This is an interesting question. It's hard to ...  "
      ]
     },
     "execution_count": 70,
     "metadata": {},
     "output_type": "execute_result"
    }
   ],
   "source": [
    "dat.head()"
   ]
  },
  {
   "cell_type": "code",
   "execution_count": 72,
   "metadata": {},
   "outputs": [
    {
     "data": {
      "text/plain": [
       "'Yes, absolutely! In fact, ancient people did a variety of flips and acrobatic stunts. There are several examples of this in ancient artwork, such as the Greek vase paintings depicting men doing backflips and the ancient Egyptian frescoes that show acrobats performing front flips. Additionally, there is evidence that acrobatic performances were a popular form of entertainment in ancient societies.'"
      ]
     },
     "execution_count": 72,
     "metadata": {},
     "output_type": "execute_result"
    }
   ],
   "source": [
    "dat['ai_response'][0]"
   ]
  },
  {
   "cell_type": "code",
   "execution_count": 73,
   "metadata": {},
   "outputs": [],
   "source": [
    "#dat.to_csv('../../data/ai_responses/remaining_subs_final.csv', index = False)"
   ]
  },
  {
   "cell_type": "code",
   "execution_count": null,
   "metadata": {},
   "outputs": [],
   "source": []
  }
 ],
 "metadata": {
  "kernelspec": {
   "display_name": "base",
   "language": "python",
   "name": "python3"
  },
  "language_info": {
   "codemirror_mode": {
    "name": "ipython",
    "version": 3
   },
   "file_extension": ".py",
   "mimetype": "text/x-python",
   "name": "python",
   "nbconvert_exporter": "python",
   "pygments_lexer": "ipython3",
   "version": "3.11.3"
  },
  "orig_nbformat": 4
 },
 "nbformat": 4,
 "nbformat_minor": 2
}
