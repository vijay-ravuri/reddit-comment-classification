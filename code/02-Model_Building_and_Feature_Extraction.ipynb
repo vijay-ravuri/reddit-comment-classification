{
 "cells": [
  {
   "cell_type": "code",
   "execution_count": 4,
   "metadata": {},
   "outputs": [],
   "source": [
    "import pandas as pd\n",
    "import numpy as np\n",
    "\n",
    "import re\n",
    "from text_helper import word_splitter, sentence_count, stop_word_counter, punc_counter, emoji_checker\n",
    "\n",
    "import matplotlib.pyplot as plt\n",
    "import seaborn as sns\n",
    "\n",
    "from sklearn.pipeline import Pipeline\n",
    "from sklearn.feature_extraction.text import CountVectorizer, TfidfVectorizer\n",
    "\n",
    "from sklearn.naive_bayes import MultinomialNB, GaussianNB, BernoulliNB\n",
    "from sklearn.ensemble import RandomForestClassifier, ExtraTreesClassifier\n",
    "from sklearn.linear_model import LogisticRegression\n",
    "from sklearn.svm import SVC\n",
    "from sklearn.ensemble import AdaBoostClassifier\n",
    "\n",
    "\n",
    "from sklearn.model_selection import train_test_split\n",
    "from sklearn.preprocessing import StandardScaler, FunctionTransformer, OneHotEncoder\n",
    "\n",
    "from sklearn.compose import make_column_selector, ColumnTransformer\n",
    "\n",
    "rs = 91923 "
   ]
  },
  {
   "cell_type": "code",
   "execution_count": 5,
   "metadata": {},
   "outputs": [],
   "source": [
    "df = pd.read_csv('../data/data_final.csv')"
   ]
  },
  {
   "cell_type": "code",
   "execution_count": 3,
   "metadata": {},
   "outputs": [],
   "source": [
    "X = df['response']\n",
    "y = df['fake']\n",
    "\n",
    "X_train, X_test, y_train, y_test = train_test_split(X, y, test_size = 0.25, random_state = rs, stratify = y)"
   ]
  },
  {
   "cell_type": "code",
   "execution_count": 4,
   "metadata": {},
   "outputs": [
    {
     "data": {
      "text/plain": [
       "1    0.500062\n",
       "0    0.499938\n",
       "Name: fake, dtype: float64"
      ]
     },
     "execution_count": 4,
     "metadata": {},
     "output_type": "execute_result"
    }
   ],
   "source": [
    "y_train.value_counts(normalize = True)"
   ]
  },
  {
   "cell_type": "markdown",
   "metadata": {},
   "source": [
    "Obviously, our baseline is 50% since half our data came from AI responses and half was real data that was gathered from reddit."
   ]
  },
  {
   "cell_type": "code",
   "execution_count": 5,
   "metadata": {},
   "outputs": [],
   "source": [
    "mnb_pipe = Pipeline(\n",
    "    [\n",
    "        ('vect', CountVectorizer()),\n",
    "        ('densify', FunctionTransformer(lambda x: x.toarray(), accept_sparse = True)),\n",
    "        ('mnb', MultinomialNB())\n",
    "    ]\n",
    ")\n",
    "\n",
    "bnb_pipe = Pipeline(\n",
    "    [\n",
    "        ('vect', CountVectorizer()),\n",
    "        ('densify', FunctionTransformer(lambda x: x.toarray(), accept_sparse = True)),\n",
    "        ('bnb', BernoulliNB())\n",
    "    ]\n",
    ")\n",
    "\n",
    "gnb_pipe = Pipeline(\n",
    "    [\n",
    "        ('vect', CountVectorizer()),\n",
    "        ('densify', FunctionTransformer(lambda x: x.toarray(), accept_sparse = True)),\n",
    "        ('gnb', GaussianNB())\n",
    "    ]\n",
    ")\n",
    "\n",
    "logr_pipe = Pipeline(\n",
    "    [\n",
    "        ('vect', CountVectorizer()),\n",
    "        ('logr', LogisticRegression(max_iter = 500, n_jobs = -1))\n",
    "    ]\n",
    "    )\n",
    "\n",
    "rf_pipe = Pipeline(\n",
    "    [\n",
    "        ('vect', CountVectorizer()),\n",
    "        ('rf', RandomForestClassifier(random_state = rs, n_jobs = -1))\n",
    "    ])\n",
    "\n",
    "et_pipe = Pipeline(\n",
    "    [\n",
    "        ('vect', CountVectorizer()),\n",
    "        ('et', ExtraTreesClassifier(random_state = rs, n_jobs = -1))\n",
    "    ]\n",
    ")\n",
    "\n",
    "linear_svc_pipe = Pipeline(\n",
    "    [\n",
    "        ('vect', CountVectorizer()),\n",
    "        ('lsvc', SVC(kernel = 'linear'))\n",
    "    ]\n",
    ")\n",
    "\n",
    "rsvc_pipe = Pipeline(\n",
    "    [\n",
    "        ('vect', CountVectorizer()),\n",
    "        ('rsvc', SVC(kernel = 'rbf'))\n",
    "    ]\n",
    ")\n",
    "\n",
    "adbc_pipe = Pipeline(\n",
    "    [\n",
    "        ('vect', CountVectorizer()),\n",
    "        ('adbc', AdaBoostClassifier())\n",
    "    ]\n",
    ")"
   ]
  },
  {
   "cell_type": "code",
   "execution_count": 6,
   "metadata": {},
   "outputs": [
    {
     "name": "stdout",
     "output_type": "stream",
     "text": [
      "MNB Train: 0.8555240793201133\n",
      "MNB Test: 0.7661618027336535\n",
      "----\n",
      "BNB Train: 0.6961448454243133\n",
      "BNB Test: 0.6734392316217215\n",
      "----\n",
      "GNB Train: 0.9052839019583693\n",
      "GNB Test: 0.5755448836350203\n",
      "----\n",
      "LogReg Train: 0.9959354600320236\n",
      "LogReg Test: 0.879571481344662\n",
      "----\n",
      "RF Train: 1.0\n",
      "RF Test: 0.8762467676394533\n",
      "----\n",
      "ET Train: 1.0\n",
      "ET Test: 0.8943479867011451\n",
      "----\n",
      "LSVC Train: 0.9991378248552777\n",
      "LSVC Test: 0.8507572958995198\n",
      "----\n",
      "RSVC Train: 0.906269244980909\n",
      "RSVC Test: 0.8799408939785741\n",
      "----\n",
      "AdaBoost Train: 0.8583569405099151\n",
      "AdaBoost Test: 0.8393055042482452\n",
      "----\n"
     ]
    }
   ],
   "source": [
    "mnb_pipe.fit(X_train, y_train)\n",
    "bnb_pipe.fit(X_train, y_train)\n",
    "gnb_pipe.fit(X_train, y_train)\n",
    "logr_pipe.fit(X_train, y_train)\n",
    "rf_pipe.fit(X_train, y_train)\n",
    "et_pipe.fit(X_train, y_train)\n",
    "linear_svc_pipe.fit(X_train, y_train)\n",
    "rsvc_pipe.fit(X_train, y_train)\n",
    "adbc_pipe.fit(X_train, y_train)\n",
    "\n",
    "print(\"MNB Train: {}\\nMNB Test: {}\\n----\".format(mnb_pipe.score(X_train, y_train), mnb_pipe.score(X_test, y_test)))\n",
    "print(\"BNB Train: {}\\nBNB Test: {}\\n----\".format(bnb_pipe.score(X_train, y_train), bnb_pipe.score(X_test, y_test)))\n",
    "print(\"GNB Train: {}\\nGNB Test: {}\\n----\".format(gnb_pipe.score(X_train, y_train), gnb_pipe.score(X_test, y_test)))\n",
    "print(\"LogReg Train: {}\\nLogReg Test: {}\\n----\".format(logr_pipe.score(X_train, y_train), logr_pipe.score(X_test, y_test)))\n",
    "print(\"RF Train: {}\\nRF Test: {}\\n----\".format(rf_pipe.score(X_train, y_train), rf_pipe.score(X_test, y_test)))\n",
    "print(\"ET Train: {}\\nET Test: {}\\n----\".format(et_pipe.score(X_train, y_train), et_pipe.score(X_test, y_test)))\n",
    "print(\"LSVC Train: {}\\nLSVC Test: {}\\n----\".format(linear_svc_pipe.score(X_train, y_train), linear_svc_pipe.score(X_test, y_test)))\n",
    "print(\"RSVC Train: {}\\nRSVC Test: {}\\n----\".format(rsvc_pipe.score(X_train, y_train), rsvc_pipe.score(X_test, y_test)))\n",
    "print(\"AdaBoost Train: {}\\nAdaBoost Test: {}\\n----\".format(adbc_pipe.score(X_train, y_train), adbc_pipe.score(X_test, y_test)))"
   ]
  },
  {
   "cell_type": "markdown",
   "metadata": {},
   "source": [
    "With no attempt at tuning or cleaning the data structurally, Multinomial Naive Bayes has the best test performance of our Naive Bayes models but is moderately overfit while the Bernoulli variant performs worse by a lot but is barely overfit. Gaussian Naive Bayes defies all expectations and manages to perform worse than the other two methods on the test data while being the most overfit. Generally, this points towards Multinomial Naive Bayes being the best model of the Naive Bayes approaches but let's commit to that just yet in case we can get the Bernoulli model to be somewhat competitive. Logistic Regression performs quite well, beating Multinomial Naive Bayes by 11% on the test set, however we do see that it is very overfit again with nearly a perfect score on our training set. With proper regularization and other hyperparameter tuning Logisitic Regression could end up being one of the best models for detecting AI responses but that will be investigated later on. Our ensemble classifiers perform similarly to Logistic Regression with Extra Trees beating it slightly. Both have perfect scores on the training data so tuning will be needed to address the overfit issue. Linear SVC has good results but doesn't match our higher test rates while still having an overfit issue however radial SVC is just a bit short of our ensemble methods but has much lower overfit compared to the other models. Radial SVC is a model that will definitely warrant further attention. Adaptive Boost has a respectable performance with only a slight overfit but does fall behind a number of other methods. Boosting is a powerful approach however so keeping it as a model to explore further is not a bad idea. For now the three that stand out are ExtraTrees, Radial SVM, and Adaptive Boosting since we've had less chance to explore these types of models compared to regression and Naive Bayes. Their performance is also quite good though it does seem that Adaptive Boosting is behind Logistic Regression at the moment."
   ]
  },
  {
   "cell_type": "markdown",
   "metadata": {},
   "source": [
    "Before getting deeper into modelling I want to try cleaning our responses slightly. There are two things I noted in our data: Reddit users tend to use two newline characters since reddit formatting requires it while the AI responses typically don't and real Reddit comments will sometimes reference other users by name in the format '/u/\\<name here\\>' or 'u/\\<name here\\>'. I plan to replace the former with a single newline character and the latter with 'they' instead and then I will see if that makes it a bit harder to predict which responses are fake."
   ]
  },
  {
   "cell_type": "code",
   "execution_count": 7,
   "metadata": {},
   "outputs": [
    {
     "name": "stdout",
     "output_type": "stream",
     "text": [
      "Double newline count: 2961 \n",
      "A lot of observations have this double newline in them\n",
      "AI double newline count: 218\n",
      "Real double newline count: 2743\n"
     ]
    }
   ],
   "source": [
    "print('Double newline count: {} \\nA lot of observations have this double newline in them'.format(df[df['response'].str.contains('\\n\\n')].shape[0]))\n",
    "print('AI double newline count: {}'.format(df[(df['response'].str.contains('\\n\\n')) & (df['fake'] == 1)].shape[0])) # Not many AI models have the double newline\n",
    "print('Real double newline count: {}'.format(df[(df['response'].str.contains('\\n\\n')) & (df['fake'] == 0)].shape[0]))"
   ]
  },
  {
   "cell_type": "code",
   "execution_count": 9,
   "metadata": {},
   "outputs": [
    {
     "data": {
      "text/plain": [
       "(2961, 3)"
      ]
     },
     "execution_count": 9,
     "metadata": {},
     "output_type": "execute_result"
    }
   ],
   "source": [
    "df[df['response'].str.contains('\\n\\n')].shape"
   ]
  },
  {
   "cell_type": "code",
   "execution_count": 11,
   "metadata": {},
   "outputs": [
    {
     "data": {
      "text/plain": [
       "(2743, 3)"
      ]
     },
     "execution_count": 11,
     "metadata": {},
     "output_type": "execute_result"
    }
   ],
   "source": [
    "df[(df['response'].str.contains('\\n\\n')) & (df['fake'] == 0)].shape"
   ]
  },
  {
   "cell_type": "markdown",
   "metadata": {},
   "source": [
    "Most of our double newlines are in the real comments so we'll proceed with removing them from our responses."
   ]
  },
  {
   "cell_type": "code",
   "execution_count": 8,
   "metadata": {},
   "outputs": [
    {
     "data": {
      "text/plain": [
       "(165, 3)"
      ]
     },
     "execution_count": 8,
     "metadata": {},
     "output_type": "execute_result"
    }
   ],
   "source": [
    "df[df['response'].str.contains('\\n\\n\\n')].shape # For some reason there are responses that use triple newline"
   ]
  },
  {
   "cell_type": "code",
   "execution_count": 12,
   "metadata": {},
   "outputs": [
    {
     "data": {
      "text/plain": [
       "(0, 4)"
      ]
     },
     "execution_count": 12,
     "metadata": {},
     "output_type": "execute_result"
    }
   ],
   "source": [
    "df['response_cleaned'] = df['response'].apply(lambda x: re.sub('[\\\\n]{2,}', '\\n', x))\n",
    "df[df['response_cleaned'].str.contains('\\n\\n')].shape # All gone now"
   ]
  },
  {
   "cell_type": "code",
   "execution_count": 13,
   "metadata": {},
   "outputs": [],
   "source": [
    "df['response_cleaned'] = df['response_cleaned'].apply(lambda x: re.sub(r\"\\/*u\\/[\\S]+\", 'they', x))"
   ]
  },
  {
   "cell_type": "code",
   "execution_count": 14,
   "metadata": {},
   "outputs": [
    {
     "data": {
      "text/html": [
       "<div>\n",
       "<style scoped>\n",
       "    .dataframe tbody tr th:only-of-type {\n",
       "        vertical-align: middle;\n",
       "    }\n",
       "\n",
       "    .dataframe tbody tr th {\n",
       "        vertical-align: top;\n",
       "    }\n",
       "\n",
       "    .dataframe thead th {\n",
       "        text-align: right;\n",
       "    }\n",
       "</style>\n",
       "<table border=\"1\" class=\"dataframe\">\n",
       "  <thead>\n",
       "    <tr style=\"text-align: right;\">\n",
       "      <th></th>\n",
       "      <th>subreddit</th>\n",
       "      <th>response</th>\n",
       "      <th>fake</th>\n",
       "      <th>response_cleaned</th>\n",
       "    </tr>\n",
       "  </thead>\n",
       "  <tbody>\n",
       "  </tbody>\n",
       "</table>\n",
       "</div>"
      ],
      "text/plain": [
       "Empty DataFrame\n",
       "Columns: [subreddit, response, fake, response_cleaned]\n",
       "Index: []"
      ]
     },
     "execution_count": 14,
     "metadata": {},
     "output_type": "execute_result"
    }
   ],
   "source": [
    "df[df['response_cleaned'].str.contains('u/')] # All usernames gone"
   ]
  },
  {
   "cell_type": "markdown",
   "metadata": {},
   "source": [
    "With that out of the way, let's see if our performance or overfitting has changed on any of our models from earlier. The assumption is that the newlines were relevant so our predictive power should have taken some hit but overfitting may not be effected since these problems should have affected both training and test sets evenly."
   ]
  },
  {
   "cell_type": "code",
   "execution_count": 12,
   "metadata": {},
   "outputs": [],
   "source": [
    "X = df['response_cleaned']\n",
    "y = df['fake']\n",
    "\n",
    "X_train, X_test, y_train, y_test = train_test_split(X, y, test_size = 0.25, random_state = rs, stratify = y)"
   ]
  },
  {
   "cell_type": "code",
   "execution_count": 13,
   "metadata": {},
   "outputs": [
    {
     "name": "stdout",
     "output_type": "stream",
     "text": [
      "MNB Train: 0.8557704150757482\n",
      "MNB Test: 0.7669006280014776\n",
      "----\n",
      "BNB Train: 0.6963911811799482\n",
      "BNB Test: 0.6738086442556336\n",
      "----\n",
      "GNB Train: 0.9051607340805518\n",
      "GNB Test: 0.5755448836350203\n",
      "----\n",
      "LogReg Train: 0.9959354600320236\n",
      "LogReg Test: 0.8792020687107499\n",
      "----\n",
      "RF Train: 1.0\n",
      "RF Test: 0.8825267824159586\n",
      "----\n",
      "ET Train: 1.0\n",
      "ET Test: 0.8980421130402659\n",
      "----\n",
      "LSVC Train: 0.9991378248552777\n",
      "LSVC Test: 0.8507572958995198\n",
      "----\n",
      "RSVC Train: 0.9065155807365439\n",
      "RSVC Test: 0.8792020687107499\n",
      "----\n",
      "AdaBoost Train: 0.8583569405099151\n",
      "AdaBoost Test: 0.8393055042482452\n",
      "----\n"
     ]
    }
   ],
   "source": [
    "mnb_pipe.fit(X_train, y_train)\n",
    "bnb_pipe.fit(X_train, y_train)\n",
    "gnb_pipe.fit(X_train, y_train)\n",
    "logr_pipe.fit(X_train, y_train)\n",
    "rf_pipe.fit(X_train, y_train)\n",
    "et_pipe.fit(X_train, y_train)\n",
    "linear_svc_pipe.fit(X_train, y_train)\n",
    "rsvc_pipe.fit(X_train, y_train)\n",
    "adbc_pipe.fit(X_train, y_train)\n",
    "\n",
    "print(\"MNB Train: {}\\nMNB Test: {}\\n----\".format(mnb_pipe.score(X_train, y_train), mnb_pipe.score(X_test, y_test)))\n",
    "print(\"BNB Train: {}\\nBNB Test: {}\\n----\".format(bnb_pipe.score(X_train, y_train), bnb_pipe.score(X_test, y_test)))\n",
    "print(\"GNB Train: {}\\nGNB Test: {}\\n----\".format(gnb_pipe.score(X_train, y_train), gnb_pipe.score(X_test, y_test)))\n",
    "print(\"LogReg Train: {}\\nLogReg Test: {}\\n----\".format(logr_pipe.score(X_train, y_train), logr_pipe.score(X_test, y_test)))\n",
    "print(\"RF Train: {}\\nRF Test: {}\\n----\".format(rf_pipe.score(X_train, y_train), rf_pipe.score(X_test, y_test)))\n",
    "print(\"ET Train: {}\\nET Test: {}\\n----\".format(et_pipe.score(X_train, y_train), et_pipe.score(X_test, y_test)))\n",
    "print(\"LSVC Train: {}\\nLSVC Test: {}\\n----\".format(linear_svc_pipe.score(X_train, y_train), linear_svc_pipe.score(X_test, y_test)))\n",
    "print(\"RSVC Train: {}\\nRSVC Test: {}\\n----\".format(rsvc_pipe.score(X_train, y_train), rsvc_pipe.score(X_test, y_test)))\n",
    "print(\"AdaBoost Train: {}\\nAdaBoost Test: {}\\n----\".format(adbc_pipe.score(X_train, y_train), adbc_pipe.score(X_test, y_test)))"
   ]
  },
  {
   "cell_type": "markdown",
   "metadata": {},
   "source": [
    "Our accuracy scores are about the same so this cleaning probably wasn't necessary but I can feel confident that if some tuning later on would have left our models more reliant on the double newline, now it won't be an issue."
   ]
  },
  {
   "cell_type": "markdown",
   "metadata": {},
   "source": [
    "We've been using a count vectorizer so far which has worked best for all the data in labs and lessons we've worked with so far but for the sake of it, let's see how a text frequency vectorizer works."
   ]
  },
  {
   "cell_type": "code",
   "execution_count": 14,
   "metadata": {},
   "outputs": [
    {
     "name": "stdout",
     "output_type": "stream",
     "text": [
      "MNB Train: 0.9332430102229339\n",
      "MNB Test: 0.8248984115256742\n",
      "----\n",
      "BNB Train: 0.6963911811799482\n",
      "BNB Test: 0.6738086442556336\n",
      "----\n",
      "GNB Train: 0.9051607340805518\n",
      "GNB Test: 0.5711119320280753\n",
      "----\n",
      "LogReg Train: 0.9389087326025373\n",
      "LogReg Test: 0.8651643886220909\n",
      "----\n",
      "RF Train: 1.0\n",
      "RF Test: 0.8836350203176949\n",
      "----\n",
      "ET Train: 1.0\n",
      "ET Test: 0.8987809383080901\n",
      "----\n",
      "LSVC Train: 0.973518906269245\n",
      "LSVC Test: 0.8714444033985962\n",
      "----\n",
      "RSVC Train: 0.9959354600320236\n",
      "RSVC Test: 0.8762467676394533\n",
      "----\n",
      "AdaBoost Train: 0.8663628525680502\n",
      "AdaBoost Test: 0.8522349464351681\n",
      "----\n"
     ]
    }
   ],
   "source": [
    "mnb_pipe = Pipeline(\n",
    "    [\n",
    "        ('vect', TfidfVectorizer()),\n",
    "        ('densify', FunctionTransformer(lambda x: x.toarray(), accept_sparse = True)),\n",
    "        ('mnb', MultinomialNB())\n",
    "    ]\n",
    ")\n",
    "\n",
    "bnb_pipe = Pipeline(\n",
    "    [\n",
    "        ('vect', TfidfVectorizer()),\n",
    "        ('densify', FunctionTransformer(lambda x: x.toarray(), accept_sparse = True)),\n",
    "        ('bnb', BernoulliNB())\n",
    "    ]\n",
    ")\n",
    "\n",
    "gnb_pipe = Pipeline(\n",
    "    [\n",
    "        ('vect', TfidfVectorizer()),\n",
    "        ('densify', FunctionTransformer(lambda x: x.toarray(), accept_sparse = True)),\n",
    "        ('gnb', GaussianNB())\n",
    "    ]\n",
    ")\n",
    "\n",
    "logr_pipe = Pipeline(\n",
    "    [\n",
    "        ('vect', TfidfVectorizer()),\n",
    "        ('logr', LogisticRegression(max_iter = 500, n_jobs = -1))\n",
    "    ]\n",
    "    )\n",
    "\n",
    "rf_pipe = Pipeline(\n",
    "    [\n",
    "        ('vect', TfidfVectorizer()),\n",
    "        ('rf', RandomForestClassifier(random_state = rs, n_jobs = -1))\n",
    "    ])\n",
    "\n",
    "et_pipe = Pipeline(\n",
    "    [\n",
    "        ('vect', TfidfVectorizer()),\n",
    "        ('et', ExtraTreesClassifier(random_state = rs, n_jobs = -1))\n",
    "    ]\n",
    ")\n",
    "\n",
    "linear_svc_pipe = Pipeline(\n",
    "    [\n",
    "        ('vect', TfidfVectorizer()),\n",
    "        ('lsvc', SVC(kernel = 'linear'))\n",
    "    ]\n",
    ")\n",
    "\n",
    "rsvc_pipe = Pipeline(\n",
    "    [\n",
    "        ('vect', TfidfVectorizer()),\n",
    "        ('rsvc', SVC(kernel = 'rbf'))\n",
    "    ]\n",
    ")\n",
    "\n",
    "adbc_pipe = Pipeline(\n",
    "    [\n",
    "        ('vect', TfidfVectorizer()),\n",
    "        ('adbc', AdaBoostClassifier())\n",
    "    ]\n",
    ")\n",
    "\n",
    "mnb_pipe.fit(X_train, y_train)\n",
    "bnb_pipe.fit(X_train, y_train)\n",
    "gnb_pipe.fit(X_train, y_train)\n",
    "logr_pipe.fit(X_train, y_train)\n",
    "rf_pipe.fit(X_train, y_train)\n",
    "et_pipe.fit(X_train, y_train)\n",
    "linear_svc_pipe.fit(X_train, y_train)\n",
    "rsvc_pipe.fit(X_train, y_train)\n",
    "adbc_pipe.fit(X_train, y_train)\n",
    "\n",
    "print(\"MNB Train: {}\\nMNB Test: {}\\n----\".format(mnb_pipe.score(X_train, y_train), mnb_pipe.score(X_test, y_test)))\n",
    "print(\"BNB Train: {}\\nBNB Test: {}\\n----\".format(bnb_pipe.score(X_train, y_train), bnb_pipe.score(X_test, y_test)))\n",
    "print(\"GNB Train: {}\\nGNB Test: {}\\n----\".format(gnb_pipe.score(X_train, y_train), gnb_pipe.score(X_test, y_test)))\n",
    "print(\"LogReg Train: {}\\nLogReg Test: {}\\n----\".format(logr_pipe.score(X_train, y_train), logr_pipe.score(X_test, y_test)))\n",
    "print(\"RF Train: {}\\nRF Test: {}\\n----\".format(rf_pipe.score(X_train, y_train), rf_pipe.score(X_test, y_test)))\n",
    "print(\"ET Train: {}\\nET Test: {}\\n----\".format(et_pipe.score(X_train, y_train), et_pipe.score(X_test, y_test)))\n",
    "print(\"LSVC Train: {}\\nLSVC Test: {}\\n----\".format(linear_svc_pipe.score(X_train, y_train), linear_svc_pipe.score(X_test, y_test)))\n",
    "print(\"RSVC Train: {}\\nRSVC Test: {}\\n----\".format(rsvc_pipe.score(X_train, y_train), rsvc_pipe.score(X_test, y_test)))\n",
    "print(\"AdaBoost Train: {}\\nAdaBoost Test: {}\\n----\".format(adbc_pipe.score(X_train, y_train), adbc_pipe.score(X_test, y_test)))"
   ]
  },
  {
   "cell_type": "markdown",
   "metadata": {},
   "source": [
    "Using a TF-IDF vectorizer instead of a count vectorizer gives slightly worse results for most models though we haven't done any work tuning hyperparameters or scaling so the fact that both are mostly competitive means we'll want to continue to test with both methods. The standout here is Multinomial Naive Bayes which performs 5% better on both sets. No other model saw a change similar but it does seem like if we wanted to consider a Multinomial Naive Bayes model for our final model it would likely use a TF-IDF vectorizer. It did also narrow the gap between the two SVC kernels and also brought Adaptive Boosting up a bit, similar to what happened with MNB but to a lesser degree. Overall, these results are interesting might be telling us that different models will perform better with different vectorizer types but it remains to be seen if that will apply to the models we select for further investigation."
   ]
  },
  {
   "cell_type": "markdown",
   "metadata": {},
   "source": [
    "#### Creating some meta-features"
   ]
  },
  {
   "cell_type": "code",
   "execution_count": 16,
   "metadata": {},
   "outputs": [
    {
     "data": {
      "text/plain": [
       "56"
      ]
     },
     "execution_count": 16,
     "metadata": {},
     "output_type": "execute_result"
    }
   ],
   "source": [
    "df['response_cleaned'].apply(lambda x: emoji_checker(x)).sum() # Unforunately most of our posts don't have emojis so this feature is non-viable"
   ]
  },
  {
   "cell_type": "code",
   "execution_count": 17,
   "metadata": {},
   "outputs": [
    {
     "data": {
      "text/plain": [
       "(217.4642527249215, 571.8884167744319)"
      ]
     },
     "execution_count": 17,
     "metadata": {},
     "output_type": "execute_result"
    }
   ],
   "source": [
    "np.mean(df[df['fake'] == 1]['response_cleaned'].apply(stop_word_counter)), np.mean(df[df['fake'] == 0]['response_cleaned'].apply(stop_word_counter)) # The AI uses about half the number of stopwords on average compared to real comments"
   ]
  },
  {
   "cell_type": "code",
   "execution_count": 18,
   "metadata": {},
   "outputs": [
    {
     "data": {
      "text/plain": [
       "(63.504526140772214, 167.9844818030667)"
      ]
     },
     "execution_count": 18,
     "metadata": {},
     "output_type": "execute_result"
    }
   ],
   "source": [
    "np.mean(df[df['fake'] == 1]['response_cleaned'].apply(lambda x: word_splitter(x)[0])), np.mean(df[df['fake'] == 0]['response_cleaned'].apply(lambda x: word_splitter(x)[0]))"
   ]
  },
  {
   "cell_type": "code",
   "execution_count": 19,
   "metadata": {},
   "outputs": [
    {
     "data": {
      "text/plain": [
       "(4.606554634008194, 4.6613484025666345)"
      ]
     },
     "execution_count": 19,
     "metadata": {},
     "output_type": "execute_result"
    }
   ],
   "source": [
    "np.mean(df[df['fake'] == 1]['response_cleaned'].apply(lambda x: word_splitter(x)[1])), np.mean(df[df['fake'] == 0]['response_cleaned'].apply(lambda x: word_splitter(x)[1]))"
   ]
  },
  {
   "cell_type": "markdown",
   "metadata": {},
   "source": [
    "AI responses are actually shorter on average in terms of words. The word length is about the same though. Let's look a bit closer at number of words though since that's a bit surprising."
   ]
  },
  {
   "cell_type": "code",
   "execution_count": 16,
   "metadata": {},
   "outputs": [
    {
     "data": {
      "text/plain": [
       "subreddit          fake\n",
       "AskHistorians      0       630.097938\n",
       "                   1        94.881443\n",
       "AskReddit          0        41.700418\n",
       "                   1        46.086639\n",
       "AskScience         0       193.576456\n",
       "                   1        65.025485\n",
       "DoesAnybodyElse    0        35.892418\n",
       "                   1        45.296107\n",
       "NoStupidQuestions  0        57.068750\n",
       "                   1        66.722917\n",
       "explainlikeimfive  0       142.623504\n",
       "                   1        69.779108\n",
       "Name: num_words, dtype: float64"
      ]
     },
     "execution_count": 16,
     "metadata": {},
     "output_type": "execute_result"
    }
   ],
   "source": [
    "df['num_words'] = df['response_cleaned'].apply(lambda x: word_splitter(x)[0])\n",
    "\n",
    "df.groupby(['subreddit', 'fake'])['num_words'].mean()"
   ]
  },
  {
   "cell_type": "markdown",
   "metadata": {},
   "source": [
    "A closer look shows that for AskHistorians, AskScience, and explainlikeimfive our AI responses are much shorter. This is likely caused by the token limit so while we will include this is our model we should also take a look at the comparison of our final model with and without this variable since the difference might be caused by our methodology. We should also apply this method to the stop words difference we saw earlier."
   ]
  },
  {
   "cell_type": "code",
   "execution_count": 17,
   "metadata": {},
   "outputs": [
    {
     "data": {
      "text/plain": [
       "subreddit          fake\n",
       "AskHistorians      0       2199.405928\n",
       "                   1        339.095361\n",
       "AskReddit          0        126.782881\n",
       "                   1        150.102296\n",
       "AskScience         0        672.442961\n",
       "                   1        229.257282\n",
       "DoesAnybodyElse    0        109.717213\n",
       "                   1        144.838115\n",
       "NoStupidQuestions  0        181.589583\n",
       "                   1        230.857292\n",
       "explainlikeimfive  0        470.002176\n",
       "                   1        237.546246\n",
       "Name: stop_words, dtype: float64"
      ]
     },
     "execution_count": 17,
     "metadata": {},
     "output_type": "execute_result"
    }
   ],
   "source": [
    "df['stop_words'] = df['response_cleaned'].apply(stop_word_counter)\n",
    "\n",
    "df.groupby(['subreddit', 'fake'])['stop_words'].mean()"
   ]
  },
  {
   "cell_type": "markdown",
   "metadata": {},
   "source": [
    "We see the same issue as before. The subreddits with longer posts have more stop words and these two trends are almost certainly related. Like with words per post we will want to check performance without this feature at the end."
   ]
  },
  {
   "cell_type": "code",
   "execution_count": 22,
   "metadata": {},
   "outputs": [
    {
     "data": {
      "text/plain": [
       "(3.332348050988361, 7.562349898392759)"
      ]
     },
     "execution_count": 22,
     "metadata": {},
     "output_type": "execute_result"
    }
   ],
   "source": [
    "np.mean(df[df['fake'] == 1]['response_cleaned'].apply(lambda x: sentence_count(x)[0])), np.mean(df[df['fake'] == 0]['response_cleaned'].apply(lambda x: sentence_count(x)[0]))"
   ]
  },
  {
   "cell_type": "code",
   "execution_count": 18,
   "metadata": {},
   "outputs": [
    {
     "data": {
      "text/plain": [
       "subreddit          fake\n",
       "AskHistorians      0       24.301546\n",
       "                   1        4.467784\n",
       "AskReddit          0        2.885177\n",
       "                   1        2.610647\n",
       "AskScience         0        8.010922\n",
       "                   1        3.298544\n",
       "DoesAnybodyElse    0        2.584016\n",
       "                   1        2.846311\n",
       "NoStupidQuestions  0        3.468750\n",
       "                   1        3.489583\n",
       "explainlikeimfive  0        7.464635\n",
       "                   1        3.508161\n",
       "Name: num_sentences, dtype: float64"
      ]
     },
     "execution_count": 18,
     "metadata": {},
     "output_type": "execute_result"
    }
   ],
   "source": [
    "df['num_sentences'] = df['response_cleaned'].apply(lambda x: sentence_count(x)[0]) \n",
    "\n",
    "df.groupby(['subreddit', 'fake'])['num_sentences'].mean() # Same trend here as we saw both times above so the same applies to checking without this later on"
   ]
  },
  {
   "cell_type": "code",
   "execution_count": 24,
   "metadata": {},
   "outputs": [
    {
     "data": {
      "text/plain": [
       "(19.268005381731594, 18.800789255849004)"
      ]
     },
     "execution_count": 24,
     "metadata": {},
     "output_type": "execute_result"
    }
   ],
   "source": [
    "np.mean(df[df['fake'] == 1]['response_cleaned'].apply(lambda x: sentence_count(x)[1])), np.mean(df[df['fake'] == 0]['response_cleaned'].apply(lambda x: sentence_count(x)[1])) # Not much difference in sentence length"
   ]
  },
  {
   "cell_type": "markdown",
   "metadata": {},
   "source": [
    "Let's take a moment to look at the distribution of the features that don't seem relevant just in case the spread is different. Most of these models work non-linearly so even if the center of these distributions is the same the features could be valuable at their extremes."
   ]
  },
  {
   "cell_type": "code",
   "execution_count": 19,
   "metadata": {},
   "outputs": [],
   "source": [
    "df['sentence_length'] = df['response_cleaned'].apply(lambda x: sentence_count(x)[1])\n",
    "df['word_length'] = df['response_cleaned'].apply(lambda x: word_splitter(x)[1])"
   ]
  },
  {
   "cell_type": "code",
   "execution_count": 26,
   "metadata": {},
   "outputs": [
    {
     "data": {
      "image/png": "[encoded data removed]",
      "text/plain": [
       "<Figure size 640x480 with 3 Axes>"
      ]
     },
     "metadata": {},
     "output_type": "display_data"
    }
   ],
   "source": [
    "fig, ax = plt.subplots(nrows = 3, ncols = 1)\n",
    "\n",
    "sns.boxplot(ax = ax[0], x = df['num_sentences'], y = df['fake'].map({0 : 'Real', 1 : 'AI'}))\n",
    "sns.boxplot(ax = ax[1], x = df['sentence_length'], y = df['fake'].map({0 : 'Real', 1 : 'AI'}))\n",
    "sns.boxplot(ax = ax[2], x = df['word_length'], y = df['fake'].map({0 : 'Real', 1 : 'AI'}));"
   ]
  },
  {
   "cell_type": "markdown",
   "metadata": {},
   "source": [
    "It looks like there is a difference in spread but what's really striking here is that the AI responses are much more consistent. This is of course obvious in retrospect since computers are much more consistent than humans. It will be interesting to see if and how these variables affect our model."
   ]
  },
  {
   "cell_type": "code",
   "execution_count": 27,
   "metadata": {},
   "outputs": [
    {
     "data": {
      "text/plain": [
       "(8.665065582856087, 35.476815074819875)"
      ]
     },
     "execution_count": 27,
     "metadata": {},
     "output_type": "execute_result"
    }
   ],
   "source": [
    "np.mean(df[df['fake'] == 1]['response_cleaned'].apply(punc_counter)), np.mean(df[df['fake'] == 0]['response_cleaned'].apply(punc_counter)) # Real responses use MUCH more punctuation"
   ]
  },
  {
   "cell_type": "code",
   "execution_count": 20,
   "metadata": {},
   "outputs": [],
   "source": [
    "df['punc_count'] = df['response_cleaned'].apply(punc_counter)"
   ]
  },
  {
   "cell_type": "code",
   "execution_count": 29,
   "metadata": {},
   "outputs": [
    {
     "data": {
      "image/png": "[encoded data removed]",
      "text/plain": [
       "<Figure size 640x480 with 1 Axes>"
      ]
     },
     "metadata": {},
     "output_type": "display_data"
    }
   ],
   "source": [
    "sns.boxplot(x = df['punc_count'], y = df['fake'].map({0 : 'Real', 1 : 'AI'}));"
   ]
  },
  {
   "cell_type": "code",
   "execution_count": 30,
   "metadata": {},
   "outputs": [
    {
     "data": {
      "image/png": "[encoded data removed]",
      "text/plain": [
       "<Figure size 558.875x500 with 1 Axes>"
      ]
     },
     "metadata": {},
     "output_type": "display_data"
    }
   ],
   "source": [
    "sns.lmplot(\n",
    "    data = df,\n",
    "    x = 'num_words',\n",
    "    y = 'punc_count',\n",
    "    hue = 'fake'\n",
    ");"
   ]
  },
  {
   "cell_type": "markdown",
   "metadata": {},
   "source": [
    "There is a correlation between number of words in a response and amount of punctuation (of course) and real and AI responses use punctuation at very different rates but this doesn't quite feel right so let's scale this punctuation variable by length of comment in words. The goal here is keep this as a relevant feature but reduce how correlated it is to length of response since we know that AI responses were only allowed to be so long."
   ]
  },
  {
   "cell_type": "code",
   "execution_count": 21,
   "metadata": {},
   "outputs": [
    {
     "data": {
      "text/plain": [
       "fake\n",
       "0    0.202862\n",
       "1    0.145967\n",
       "Name: punc_ratio, dtype: float64"
      ]
     },
     "execution_count": 21,
     "metadata": {},
     "output_type": "execute_result"
    }
   ],
   "source": [
    "df['punc_ratio'] = df['punc_count'] / df['num_words']\n",
    "\n",
    "df.groupby('fake')['punc_ratio'].mean()"
   ]
  },
  {
   "cell_type": "code",
   "execution_count": 32,
   "metadata": {},
   "outputs": [
    {
     "data": {
      "image/png": "[encoded data removed]",
      "text/plain": [
       "<Figure size 640x480 with 1 Axes>"
      ]
     },
     "metadata": {},
     "output_type": "display_data"
    }
   ],
   "source": [
    "sns.boxplot(x = df['punc_ratio'], y = df['fake'].map({0 : 'Real', 1 : 'AI'}));"
   ]
  },
  {
   "cell_type": "markdown",
   "metadata": {},
   "source": [
    "Once we account for the length of replies, this feature doesn't seem as important but we will still use it moving forward since it could be relevant in some of our ensemble models."
   ]
  },
  {
   "cell_type": "markdown",
   "metadata": {},
   "source": [
    "Let's take a look at how our model performances change with all this added information. The assumption is our accuracy will improve somewhat but some models like the Naive Bayes variants can behave a bit unpredictably when adding information that has varying ranges and scales."
   ]
  },
  {
   "cell_type": "code",
   "execution_count": 22,
   "metadata": {},
   "outputs": [
    {
     "name": "stdout",
     "output_type": "stream",
     "text": [
      "MNB Train: 0.7557580982879665\n",
      "MNB Test: 0.690062800147765\n",
      "----\n",
      "BNB Train: 0.6962680133021308\n",
      "BNB Test: 0.6738086442556336\n",
      "----\n",
      "GNB Train: 0.9051607340805518\n",
      "GNB Test: 0.5755448836350203\n",
      "----\n",
      "LogReg Train: 0.9954427885207537\n",
      "LogReg Test: 0.8902844477281123\n",
      "----\n",
      "RF Train: 1.0\n",
      "RF Test: 0.8873291466568156\n",
      "----\n",
      "ET Train: 1.0\n",
      "ET Test: 0.9043221278167713\n",
      "----\n",
      "LSVC Train: 0.9991378248552777\n",
      "LSVC Test: 0.8673808644255634\n",
      "----\n",
      "RSVC Train: 0.9100874491932504\n",
      "RSVC Test: 0.8862209087550794\n",
      "----\n",
      "AdaBoost Train: 0.8949378002217022\n",
      "AdaBoost Test: 0.888806797192464\n",
      "----\n"
     ]
    }
   ],
   "source": [
    "X = df[['subreddit', 'response_cleaned', 'num_words', 'stop_words', 'num_sentences', 'sentence_length', 'word_length', 'punc_ratio']]\n",
    "y = df['fake']\n",
    "\n",
    "X_train, X_test, y_train, y_test = train_test_split(X, y, test_size = 0.25, random_state = rs, stratify = y)\n",
    "\n",
    "meta_pipe = Pipeline(\n",
    "    [\n",
    "        ('ss', StandardScaler(with_mean = False)) # Since we're still testing with Naive Bayes we need to set this to false for now\n",
    "    ]\n",
    ")\n",
    "\n",
    "text_pipe = Pipeline(\n",
    "    [\n",
    "        ('vect', CountVectorizer())\n",
    "    ]\n",
    ")\n",
    "\n",
    "subreddit_pipe = Pipeline(\n",
    "    [\n",
    "        ('ohe', OneHotEncoder())\n",
    "    ]\n",
    ")\n",
    "\n",
    "col_trans = ColumnTransformer(\n",
    "    [\n",
    "        ('meta', meta_pipe, make_column_selector(dtype_include = np.number)),\n",
    "        ('text', text_pipe, 'response_cleaned'),\n",
    "        ('ohe', subreddit_pipe, ['subreddit'])\n",
    "    ],\n",
    "    n_jobs = -1\n",
    ")\n",
    "\n",
    "\n",
    "mnb_pipe = Pipeline(\n",
    "    [\n",
    "        ('ct', col_trans),\n",
    "        ('densify', FunctionTransformer(lambda x: x.toarray(), accept_sparse = True)),\n",
    "        ('mnb', MultinomialNB())\n",
    "    ]\n",
    ")\n",
    "\n",
    "bnb_pipe = Pipeline(\n",
    "    [\n",
    "        ('ct', col_trans),\n",
    "        ('densify', FunctionTransformer(lambda x: x.toarray(), accept_sparse = True)),\n",
    "        ('bnb', BernoulliNB())\n",
    "    ]\n",
    ")\n",
    "\n",
    "gnb_pipe = Pipeline(\n",
    "    [\n",
    "        ('ct', col_trans),\n",
    "        ('densify', FunctionTransformer(lambda x: x.toarray(), accept_sparse = True)),\n",
    "        ('gnb', GaussianNB())\n",
    "    ]\n",
    ")\n",
    "\n",
    "logr_pipe = Pipeline(\n",
    "    [\n",
    "        ('ct', col_trans),\n",
    "        ('logr', LogisticRegression(max_iter = 500, n_jobs = -1))\n",
    "    ]\n",
    "    )\n",
    "\n",
    "rf_pipe = Pipeline(\n",
    "    [\n",
    "        ('ct', col_trans),\n",
    "        ('rf', RandomForestClassifier(random_state = rs, n_jobs = -1))\n",
    "    ])\n",
    "\n",
    "et_pipe = Pipeline(\n",
    "    [\n",
    "        ('ct', col_trans),\n",
    "        ('et', ExtraTreesClassifier(random_state = rs, n_jobs = -1))\n",
    "    ]\n",
    ")\n",
    "\n",
    "linear_svc_pipe = Pipeline(\n",
    "    [\n",
    "        ('ct', col_trans),\n",
    "        ('lsvc', SVC(kernel = 'linear'))\n",
    "    ]\n",
    ")\n",
    "\n",
    "rsvc_pipe = Pipeline(\n",
    "    [\n",
    "        ('ct', col_trans),\n",
    "        ('rsvc', SVC(kernel = 'rbf'))\n",
    "    ]\n",
    ")\n",
    "\n",
    "adbc_pipe = Pipeline(\n",
    "    [\n",
    "        ('ct', col_trans),\n",
    "        ('adbc', AdaBoostClassifier())\n",
    "    ]\n",
    ")\n",
    "\n",
    "mnb_pipe.fit(X_train, y_train)\n",
    "bnb_pipe.fit(X_train, y_train)\n",
    "gnb_pipe.fit(X_train, y_train)\n",
    "logr_pipe.fit(X_train, y_train)\n",
    "rf_pipe.fit(X_train, y_train)\n",
    "et_pipe.fit(X_train, y_train)\n",
    "linear_svc_pipe.fit(X_train, y_train)\n",
    "rsvc_pipe.fit(X_train, y_train)\n",
    "adbc_pipe.fit(X_train, y_train)\n",
    "\n",
    "print(\"MNB Train: {}\\nMNB Test: {}\\n----\".format(mnb_pipe.score(X_train, y_train), mnb_pipe.score(X_test, y_test)))\n",
    "print(\"BNB Train: {}\\nBNB Test: {}\\n----\".format(bnb_pipe.score(X_train, y_train), bnb_pipe.score(X_test, y_test)))\n",
    "print(\"GNB Train: {}\\nGNB Test: {}\\n----\".format(gnb_pipe.score(X_train, y_train), gnb_pipe.score(X_test, y_test)))\n",
    "print(\"LogReg Train: {}\\nLogReg Test: {}\\n----\".format(logr_pipe.score(X_train, y_train), logr_pipe.score(X_test, y_test)))\n",
    "print(\"RF Train: {}\\nRF Test: {}\\n----\".format(rf_pipe.score(X_train, y_train), rf_pipe.score(X_test, y_test)))\n",
    "print(\"ET Train: {}\\nET Test: {}\\n----\".format(et_pipe.score(X_train, y_train), et_pipe.score(X_test, y_test)))\n",
    "print(\"LSVC Train: {}\\nLSVC Test: {}\\n----\".format(linear_svc_pipe.score(X_train, y_train), linear_svc_pipe.score(X_test, y_test)))\n",
    "print(\"RSVC Train: {}\\nRSVC Test: {}\\n----\".format(rsvc_pipe.score(X_train, y_train), rsvc_pipe.score(X_test, y_test)))\n",
    "print(\"AdaBoost Train: {}\\nAdaBoost Test: {}\\n----\".format(adbc_pipe.score(X_train, y_train), adbc_pipe.score(X_test, y_test)))"
   ]
  },
  {
   "cell_type": "markdown",
   "metadata": {},
   "source": [
    "Using our finalized feature set and a count vectorizer we see that most of our models perform much better here than before which is to be expected since we added more features. Again we see Adaptive Boosting climbing the rankings and we also see Radial SVM regain its lead above the Linear kernel. The outlier here is Multinomial Naive Bayes, usurprisingly as we added more features that don't mesh well with the requirement of independent predictors and predictors that mostly come from the same type of distributions we see the performance drop. Moving forward the three models we'll be looking at and tuning are:\n",
    "- Extra Trees\n",
    "- Radial SVC\n",
    "- Adaptive Boosting"
   ]
  }
 ],
 "metadata": {
  "kernelspec": {
   "display_name": "base",
   "language": "python",
   "name": "python3"
  },
  "language_info": {
   "codemirror_mode": {
    "name": "ipython",
    "version": 3
   },
   "file_extension": ".py",
   "mimetype": "text/x-python",
   "name": "python",
   "nbconvert_exporter": "python",
   "pygments_lexer": "ipython3",
   "version": "3.11.3"
  },
  "orig_nbformat": 4
 },
 "nbformat": 4,
 "nbformat_minor": 2
}
